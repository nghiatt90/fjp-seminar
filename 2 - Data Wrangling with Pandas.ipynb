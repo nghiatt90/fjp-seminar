{
 "cells": [
  {
   "cell_type": "markdown",
   "metadata": {},
   "source": [
    "# Các thao tác trên data"
   ]
  },
  {
   "cell_type": "markdown",
   "metadata": {},
   "source": [
    "Sau khi đã đọc data, cần làm sạch và biến đổi data cho phù hợp với mục đích sử dụng. `DataFrame` của pandas là 1 công cụ rất tốt để thực hiện việc này.\n",
    "Có thể nghĩ đơn giản về DataFrame như 1 spreadsheet. Nó cung cấp các chức năng:\n",
    "- Lưu trữ và biểu diễn data dưới dạng bảng\n",
    "- Thêm, xóa, sửa hàng, cột\n",
    "- Xoay bảng, ghép cột, ghép bảng\n",
    "- Vẽ đồ thị\n",
    "- ..."
   ]
  },
  {
   "cell_type": "code",
   "execution_count": null,
   "metadata": {},
   "outputs": [],
   "source": [
    "import pandas as pd\n",
    "\n",
    "pd.set_option('max.rows', 6)\n",
    "\n",
    "data = pd.read_csv('data/titanic.csv')\n",
    "data.index"
   ]
  },
  {
   "cell_type": "code",
   "execution_count": null,
   "metadata": {},
   "outputs": [],
   "source": [
    "data.columns"
   ]
  },
  {
   "cell_type": "code",
   "execution_count": null,
   "metadata": {},
   "outputs": [],
   "source": [
    "data.head()"
   ]
  },
  {
   "cell_type": "markdown",
   "metadata": {},
   "source": [
    "pandas tự động tạo thêm 1 cột index để dễ dàng quản lý data. Tuy nhiên với bộ data này ta đã có sẵn cột `PassengerId` có thể dùng làm index"
   ]
  },
  {
   "cell_type": "code",
   "execution_count": null,
   "metadata": {},
   "outputs": [],
   "source": [
    "data.set_index('PassengerId', inplace=True)\n",
    "# data = data.set_index('PassengerId') cho kết quả tương tự\n",
    "data.head()"
   ]
  },
  {
   "cell_type": "markdown",
   "metadata": {},
   "source": [
    "## Truy xuất dữ liệu"
   ]
  },
  {
   "cell_type": "markdown",
   "metadata": {},
   "source": [
    "Để tách lấy 1 cột trong `DataFrame`, có thể dùng _attribute lookup_"
   ]
  },
  {
   "cell_type": "code",
   "execution_count": null,
   "metadata": {},
   "outputs": [],
   "source": [
    "data.Survived"
   ]
  },
  {
   "cell_type": "markdown",
   "metadata": {},
   "source": [
    "hoặc dùng kiểu truy xuất theo key _getitem_ như với dict"
   ]
  },
  {
   "cell_type": "code",
   "execution_count": null,
   "metadata": {},
   "outputs": [],
   "source": [
    "data['Name']"
   ]
  },
  {
   "cell_type": "markdown",
   "metadata": {},
   "source": [
    "2 cách trên trả ra object với kiểu dữ liệu là `Series`. Nếu vẫn muốn kiểu trả ra là `DataFrame`, có thể truyền 1 list vào làm index cho _getitem_"
   ]
  },
  {
   "cell_type": "code",
   "execution_count": null,
   "metadata": {},
   "outputs": [],
   "source": [
    "name_series = data['Name']\n",
    "print(type(name_series))\n",
    "name_df = data[['Name']]\n",
    "print(type(name_df))"
   ]
  },
  {
   "cell_type": "markdown",
   "metadata": {},
   "source": [
    "Có thể dùng cách này để select 1 lúc nhiều cột"
   ]
  },
  {
   "cell_type": "code",
   "execution_count": null,
   "metadata": {},
   "outputs": [],
   "source": [
    "data[['Name', 'Survived']]"
   ]
  },
  {
   "cell_type": "markdown",
   "metadata": {},
   "source": [
    "Để select data theo hàng, dùng `loc` và `iloc`.\n",
    "`loc` select data theo __giá trị__ của index"
   ]
  },
  {
   "cell_type": "code",
   "execution_count": null,
   "metadata": {},
   "outputs": [],
   "source": [
    "data.loc[1]"
   ]
  },
  {
   "cell_type": "markdown",
   "metadata": {},
   "source": [
    "`iloc` select data theo __thứ tự__ (từ 0)"
   ]
  },
  {
   "cell_type": "code",
   "execution_count": null,
   "metadata": {},
   "outputs": [],
   "source": [
    "data.iloc[1]"
   ]
  },
  {
   "cell_type": "markdown",
   "metadata": {},
   "source": [
    "Cả 2 đều support sử dụng __slice__ để lấy dữ liệu"
   ]
  },
  {
   "cell_type": "code",
   "execution_count": null,
   "metadata": {},
   "outputs": [],
   "source": [
    "data.loc[2:16]"
   ]
  },
  {
   "cell_type": "markdown",
   "metadata": {},
   "source": [
    "Có thể kết hợp select hàng và cột"
   ]
  },
  {
   "cell_type": "code",
   "execution_count": null,
   "metadata": {},
   "outputs": [],
   "source": [
    "data.iloc[:3, [1, 2]]  # Chọn 3 row đầu, và chỉ lấy cột 1, 2 "
   ]
  },
  {
   "cell_type": "code",
   "execution_count": null,
   "metadata": {},
   "outputs": [],
   "source": [
    "data.loc[[1, 3, 5], ['Name', 'Survived']]"
   ]
  },
  {
   "cell_type": "markdown",
   "metadata": {},
   "source": [
    "### Excersise"
   ]
  },
  {
   "cell_type": "markdown",
   "metadata": {},
   "source": [
    "Có 1 số cách khác để select dữ liệu từ `DataFrame`. Thử tìm cách select\n",
    "- Tất cả các hàng có `PassengerId` lẻ\n",
    "- Tất cả các cột trừ cột `Survived`"
   ]
  },
  {
   "cell_type": "code",
   "execution_count": null,
   "metadata": {},
   "outputs": [],
   "source": [
    "# Code vào đây"
   ]
  },
  {
   "cell_type": "code",
   "execution_count": null,
   "metadata": {},
   "outputs": [],
   "source": [
    "%load solutions/select_data.py"
   ]
  },
  {
   "cell_type": "markdown",
   "metadata": {},
   "source": [
    "## Biến đổi dữ liệu"
   ]
  },
  {
   "cell_type": "markdown",
   "metadata": {},
   "source": [
    "Trong hầu hết các trường hợp, raw data rất loạn và cần được chuẩn hóa. Để biết được cần chuẩn hóa cột nào, phải nhìn vào data thực"
   ]
  },
  {
   "cell_type": "code",
   "execution_count": null,
   "metadata": {},
   "outputs": [],
   "source": [
    "data.info()"
   ]
  },
  {
   "cell_type": "markdown",
   "metadata": {},
   "source": [
    "Nhìn vào đây ta có thể thấy:\n",
    "- Có 891 hàng và 11 cột\n",
    "- Cột `Age` có khoảng 280 ô không có dữ liệu (null)\n",
    "- Cột `Cabin` có rất ít dữ liệu\n",
    "- Cột `Embarked` cũng có 2 ô bị null\n",
    "\n",
    "Ngoài ra cột `Ticket` có vẻ không có nhiều ý nghĩa lắm; số vé thì ảnh hưởng gì đến sống hay chết."
   ]
  },
  {
   "cell_type": "markdown",
   "metadata": {},
   "source": [
    "Với các cột thiếu dữ liệu, có nhiều cách đối phó:\n",
    "- Nếu ít hàng thiếu thì có thể loại bỏ các hàng đó. VD cột `Embarked`\n",
    "- Nếu quá nhiều hàng thiếu thì có thể vứt bỏ luôn cả cột. VD cột `Cabin`\n",
    "- Hoặc có thể tìm cách đoán và điền dữ liệu thiếu. Trường hợp này cột `Age` là 1 nhân tố quan trọng trong khả năng sống sót, khó có thể vứt bỏ, nên cần tìm cách điền thêm vào."
   ]
  },
  {
   "cell_type": "code",
   "execution_count": null,
   "metadata": {},
   "outputs": [],
   "source": [
    "# Loại bỏ cột Cabin, Ticket\n",
    "data.drop(columns=['Cabin', 'Ticket'], inplace=True)\n",
    "# Hoặc có thể dùng\n",
    "# del data['Cabin']\n",
    "# del data['Ticket']\n",
    "data.info()"
   ]
  },
  {
   "cell_type": "code",
   "execution_count": null,
   "metadata": {},
   "outputs": [],
   "source": [
    "# Điền thêm thông tin vào cột Age\n",
    "# Có nhiều cách:\n",
    "#    Dự đoán dựa vào các thông tin khác\n",
    "#    Dùng giá trị có tần suất cao nhất\n",
    "#    Dùng giá trị trung bình\n",
    "#    Dùng giá trị median\n",
    "# Ở đây chọn cách dùng median\n",
    "data['Age'].fillna(data['Age'].median(), inplace=True)\n",
    "data.info()"
   ]
  },
  {
   "cell_type": "markdown",
   "metadata": {},
   "source": [
    "Về cột `Embarked`, có thể dễ dàng drop 2 hàng thiếu dữ liệu. Tuy nhiên có 1 câu hỏi: Có cần cột này không?\n",
    "Cụ thể hơn, việc 1 người lên tàu ở cảng nào có ảnh hưởng đến tỉ lệ sống sót của người đó không?"
   ]
  },
  {
   "cell_type": "markdown",
   "metadata": {},
   "source": [
    "### Exercise"
   ]
  },
  {
   "cell_type": "markdown",
   "metadata": {},
   "source": [
    "Nếu câu trả lời cho câu hỏi trên là \"Có\" thì viết code để loại bỏ 2 hàng thiếu cột `Embarked`.\n",
    "Hint: dùng `DataFrame.drop` và `DataFrame.index`\n",
    "\n",
    "Nếu câu trả lời là \"Không\" thì viết code để loại bỏ cả cột `Embarked`.\n",
    "\n",
    "Hoặc có thể chọn viết code để input giá trị vào 2 ô thiếu này."
   ]
  },
  {
   "cell_type": "code",
   "execution_count": null,
   "metadata": {},
   "outputs": [],
   "source": [
    "# Code vào đây"
   ]
  },
  {
   "cell_type": "code",
   "execution_count": null,
   "metadata": {},
   "outputs": [],
   "source": [
    "%load solutions/remove_embarked.py"
   ]
  },
  {
   "cell_type": "markdown",
   "metadata": {},
   "source": [
    "Ngoài ra, cột `Age` đang có kiểu dữ liệu là `float64`. Có lẽ nên chuyển thành `int64` thì hợp lý hơn."
   ]
  },
  {
   "cell_type": "code",
   "execution_count": null,
   "metadata": {},
   "outputs": [],
   "source": [
    "data['Age'] = data['Age'].astype(int)\n",
    "data.info()"
   ]
  },
  {
   "cell_type": "markdown",
   "metadata": {},
   "source": [
    "Với cột mang tính category, vd `Sex`, `Embarked` và `Pclass`, pandas có kiểu dữ liệu `category` tương ứng. Note là đây là kiểu đặc biệt của pandas chứ không phải của Python"
   ]
  },
  {
   "cell_type": "code",
   "execution_count": null,
   "metadata": {},
   "outputs": [],
   "source": [
    "data['Sex'] = data['Sex'].astype('category')\n",
    "data['Embarked'] = data['Embarked'].astype('category')\n",
    "data['Pclass'] = data['Pclass'].astype('category')\n",
    "data.info()"
   ]
  },
  {
   "cell_type": "markdown",
   "metadata": {},
   "source": [
    "Có thể thấy memory usage giảm xuống đáng kể sau khi chuyển data sang kiểu `category`."
   ]
  },
  {
   "cell_type": "markdown",
   "metadata": {},
   "source": [
    "## Làm đẹp code"
   ]
  },
  {
   "cell_type": "markdown",
   "metadata": {},
   "source": [
    "Đến đây thì ta đã khá hài lòng với input data rồi."
   ]
  },
  {
   "cell_type": "code",
   "execution_count": null,
   "metadata": {},
   "outputs": [],
   "source": [
    "# Đây là code từ đầu đến giờ\n",
    "import pandas as pd\n",
    "\n",
    "pd.set_option('max.rows', 6)\n",
    "\n",
    "data = pd.read_csv('data/titanic.csv')\n",
    "data.set_index('PassengerId', inplace=True)\n",
    "data.drop(columns=['Cabin', 'Ticket'], inplace=True)\n",
    "data['Age'].fillna(data['Age'].mean(), inplace=True)\n",
    "data['Embarked'].fillna(data['Embarked'].mode()[0], inplace=True)\n",
    "\n",
    "data['Age'] = data['Age'].astype(int)\n",
    "data['Sex'] = data['Sex'].astype('category')\n",
    "data['Embarked'] = data['Embarked'].astype('category')\n",
    "data['Pclass'] = data['Pclass'].astype('category')"
   ]
  },
  {
   "cell_type": "markdown",
   "metadata": {},
   "source": [
    "Trông code hiện tại thì cũng tàm tạm, nhưng với những bộ data khác thì để làm sạch được data cần rất nhiều code rối rắm.\n",
    "\n",
    "Thử nhìn lại method `pd.read_csv`"
   ]
  },
  {
   "cell_type": "code",
   "execution_count": null,
   "metadata": {},
   "outputs": [],
   "source": [
    "pd.read_csv?"
   ]
  },
  {
   "cell_type": "markdown",
   "metadata": {},
   "source": [
    "Dùng những parameter này, ta có thể thu gọn code lại rất nhiều. Ví dụ:"
   ]
  },
  {
   "cell_type": "code",
   "execution_count": null,
   "metadata": {},
   "outputs": [],
   "source": [
    "data = pd.read_csv(\n",
    "    'data/titanic.csv',\n",
    "    index_col='PassengerId',\n",
    "    dtype={\n",
    "        'Sex': 'category'\n",
    "    }\n",
    ")\n",
    "data.info()"
   ]
  },
  {
   "cell_type": "markdown",
   "metadata": {},
   "source": [
    "### Exercise"
   ]
  },
  {
   "cell_type": "markdown",
   "metadata": {},
   "source": [
    "Dùng 1 lần `read_csv` để\n",
    "- Đọc data từ file `data/titanic.csv`\n",
    "- Chuyển cột `PassengerId` thành cột index\n",
    "- Loại bỏ các cột không cần thiết `Cabin`, `Ticket`\n",
    "- Convert kiểu dữ liệu của các cột `Sex`, `Embarked` và `Pclass` thành kiểu `category`\n",
    "\n",
    "Hint: dùng các parameter `index_col`, `usecols`, `dtype`."
   ]
  },
  {
   "cell_type": "markdown",
   "metadata": {},
   "source": [
    "Note: riêng cột `Age` do có missing value nên hơi khó để convert sang `int64` ngay được."
   ]
  },
  {
   "cell_type": "code",
   "execution_count": null,
   "metadata": {},
   "outputs": [],
   "source": [
    "# Code vào đây"
   ]
  },
  {
   "cell_type": "code",
   "execution_count": null,
   "metadata": {},
   "outputs": [],
   "source": [
    "%load solutions/read_and_modify.py"
   ]
  }
 ],
 "metadata": {
  "kernelspec": {
   "display_name": "Python 3",
   "language": "python",
   "name": "python3"
  },
  "language_info": {
   "codemirror_mode": {
    "name": "ipython",
    "version": 3
   },
   "file_extension": ".py",
   "mimetype": "text/x-python",
   "name": "python",
   "nbconvert_exporter": "python",
   "pygments_lexer": "ipython3",
   "version": "3.6.3"
  }
 },
 "nbformat": 4,
 "nbformat_minor": 2
}
