{
 "cells": [
  {
   "cell_type": "markdown",
   "metadata": {},
   "source": [
    "# Khám phá dữ liệu"
   ]
  },
  {
   "cell_type": "markdown",
   "metadata": {},
   "source": [
    "Tạm thời dừng việc làm sạch dữ liệu, ta chuyển sang xem có thể rút ra được những nhận xét gì từ bộ data này.\n",
    "\n",
    "Trước hết cứ load lại dữ liệu"
   ]
  },
  {
   "cell_type": "code",
   "execution_count": 1,
   "metadata": {},
   "outputs": [],
   "source": [
    "# %load loaddata.py\n",
    "import pandas as pd\n",
    "\n",
    "pd.set_option('max.rows', 14)\n",
    "\n",
    "data = pd.read_csv(\n",
    "    'data/titanic.csv',\n",
    "    index_col='PassengerId',\n",
    "    usecols=lambda col: col not in ('Cabin', 'Ticket'),\n",
    "    dtype={\n",
    "        'Pclass': 'category',\n",
    "        'Sex': 'category',\n",
    "        'Embarked': 'category'\n",
    "    }\n",
    ")\n",
    "\n",
    "data['Age'] = (data['Age'].fillna(data['Age'].mean())\n",
    "                          .astype(int))\n",
    "data['Embarked'].fillna(data['Embarked'].mode()[0], inplace=True)\n"
   ]
  },
  {
   "cell_type": "code",
   "execution_count": null,
   "metadata": {},
   "outputs": [],
   "source": [
    "data.info()"
   ]
  },
  {
   "cell_type": "markdown",
   "metadata": {},
   "source": [
    "Ngoài `info()` thì còn có hàm `describe()` mô tả cụ thể hơn"
   ]
  },
  {
   "cell_type": "code",
   "execution_count": null,
   "metadata": {},
   "outputs": [],
   "source": [
    "data.describe()"
   ]
  },
  {
   "cell_type": "markdown",
   "metadata": {},
   "source": [
    "Mặc định thì `describe()` chỉ mô tả các cột có kiểu dữ liệu số. Nếu muốn hiện hết thì có thể dùng parameter `include`"
   ]
  },
  {
   "cell_type": "code",
   "execution_count": null,
   "metadata": {},
   "outputs": [],
   "source": [
    "data.describe(include='all')"
   ]
  },
  {
   "cell_type": "markdown",
   "metadata": {},
   "source": [
    "Cũng có thể dùng `include` để chọn ra những loại dữ liệu cụ thể"
   ]
  },
  {
   "cell_type": "code",
   "execution_count": 2,
   "metadata": {},
   "outputs": [
    {
     "data": {
      "text/html": [
       "<div>\n",
       "<style scoped>\n",
       "    .dataframe tbody tr th:only-of-type {\n",
       "        vertical-align: middle;\n",
       "    }\n",
       "\n",
       "    .dataframe tbody tr th {\n",
       "        vertical-align: top;\n",
       "    }\n",
       "\n",
       "    .dataframe thead th {\n",
       "        text-align: right;\n",
       "    }\n",
       "</style>\n",
       "<table border=\"1\" class=\"dataframe\">\n",
       "  <thead>\n",
       "    <tr style=\"text-align: right;\">\n",
       "      <th></th>\n",
       "      <th>Survived</th>\n",
       "      <th>Pclass</th>\n",
       "      <th>Sex</th>\n",
       "      <th>Age</th>\n",
       "      <th>SibSp</th>\n",
       "      <th>Parch</th>\n",
       "      <th>Fare</th>\n",
       "      <th>Embarked</th>\n",
       "    </tr>\n",
       "  </thead>\n",
       "  <tbody>\n",
       "    <tr>\n",
       "      <th>count</th>\n",
       "      <td>891.000000</td>\n",
       "      <td>891</td>\n",
       "      <td>891</td>\n",
       "      <td>891.000000</td>\n",
       "      <td>891.000000</td>\n",
       "      <td>891.000000</td>\n",
       "      <td>891.000000</td>\n",
       "      <td>891</td>\n",
       "    </tr>\n",
       "    <tr>\n",
       "      <th>unique</th>\n",
       "      <td>NaN</td>\n",
       "      <td>3</td>\n",
       "      <td>2</td>\n",
       "      <td>NaN</td>\n",
       "      <td>NaN</td>\n",
       "      <td>NaN</td>\n",
       "      <td>NaN</td>\n",
       "      <td>3</td>\n",
       "    </tr>\n",
       "    <tr>\n",
       "      <th>top</th>\n",
       "      <td>NaN</td>\n",
       "      <td>3</td>\n",
       "      <td>male</td>\n",
       "      <td>NaN</td>\n",
       "      <td>NaN</td>\n",
       "      <td>NaN</td>\n",
       "      <td>NaN</td>\n",
       "      <td>S</td>\n",
       "    </tr>\n",
       "    <tr>\n",
       "      <th>freq</th>\n",
       "      <td>NaN</td>\n",
       "      <td>491</td>\n",
       "      <td>577</td>\n",
       "      <td>NaN</td>\n",
       "      <td>NaN</td>\n",
       "      <td>NaN</td>\n",
       "      <td>NaN</td>\n",
       "      <td>646</td>\n",
       "    </tr>\n",
       "    <tr>\n",
       "      <th>mean</th>\n",
       "      <td>0.383838</td>\n",
       "      <td>NaN</td>\n",
       "      <td>NaN</td>\n",
       "      <td>29.544332</td>\n",
       "      <td>0.523008</td>\n",
       "      <td>0.381594</td>\n",
       "      <td>32.204208</td>\n",
       "      <td>NaN</td>\n",
       "    </tr>\n",
       "    <tr>\n",
       "      <th>std</th>\n",
       "      <td>0.486592</td>\n",
       "      <td>NaN</td>\n",
       "      <td>NaN</td>\n",
       "      <td>13.013778</td>\n",
       "      <td>1.102743</td>\n",
       "      <td>0.806057</td>\n",
       "      <td>49.693429</td>\n",
       "      <td>NaN</td>\n",
       "    </tr>\n",
       "    <tr>\n",
       "      <th>min</th>\n",
       "      <td>0.000000</td>\n",
       "      <td>NaN</td>\n",
       "      <td>NaN</td>\n",
       "      <td>0.000000</td>\n",
       "      <td>0.000000</td>\n",
       "      <td>0.000000</td>\n",
       "      <td>0.000000</td>\n",
       "      <td>NaN</td>\n",
       "    </tr>\n",
       "    <tr>\n",
       "      <th>25%</th>\n",
       "      <td>0.000000</td>\n",
       "      <td>NaN</td>\n",
       "      <td>NaN</td>\n",
       "      <td>22.000000</td>\n",
       "      <td>0.000000</td>\n",
       "      <td>0.000000</td>\n",
       "      <td>7.910400</td>\n",
       "      <td>NaN</td>\n",
       "    </tr>\n",
       "    <tr>\n",
       "      <th>50%</th>\n",
       "      <td>0.000000</td>\n",
       "      <td>NaN</td>\n",
       "      <td>NaN</td>\n",
       "      <td>29.000000</td>\n",
       "      <td>0.000000</td>\n",
       "      <td>0.000000</td>\n",
       "      <td>14.454200</td>\n",
       "      <td>NaN</td>\n",
       "    </tr>\n",
       "    <tr>\n",
       "      <th>75%</th>\n",
       "      <td>1.000000</td>\n",
       "      <td>NaN</td>\n",
       "      <td>NaN</td>\n",
       "      <td>35.000000</td>\n",
       "      <td>1.000000</td>\n",
       "      <td>0.000000</td>\n",
       "      <td>31.000000</td>\n",
       "      <td>NaN</td>\n",
       "    </tr>\n",
       "    <tr>\n",
       "      <th>max</th>\n",
       "      <td>1.000000</td>\n",
       "      <td>NaN</td>\n",
       "      <td>NaN</td>\n",
       "      <td>80.000000</td>\n",
       "      <td>8.000000</td>\n",
       "      <td>6.000000</td>\n",
       "      <td>512.329200</td>\n",
       "      <td>NaN</td>\n",
       "    </tr>\n",
       "  </tbody>\n",
       "</table>\n",
       "</div>"
      ],
      "text/plain": [
       "          Survived Pclass   Sex         Age       SibSp       Parch  \\\n",
       "count   891.000000    891   891  891.000000  891.000000  891.000000   \n",
       "unique         NaN      3     2         NaN         NaN         NaN   \n",
       "top            NaN      3  male         NaN         NaN         NaN   \n",
       "freq           NaN    491   577         NaN         NaN         NaN   \n",
       "mean      0.383838    NaN   NaN   29.544332    0.523008    0.381594   \n",
       "std       0.486592    NaN   NaN   13.013778    1.102743    0.806057   \n",
       "min       0.000000    NaN   NaN    0.000000    0.000000    0.000000   \n",
       "25%       0.000000    NaN   NaN   22.000000    0.000000    0.000000   \n",
       "50%       0.000000    NaN   NaN   29.000000    0.000000    0.000000   \n",
       "75%       1.000000    NaN   NaN   35.000000    1.000000    0.000000   \n",
       "max       1.000000    NaN   NaN   80.000000    8.000000    6.000000   \n",
       "\n",
       "              Fare Embarked  \n",
       "count   891.000000      891  \n",
       "unique         NaN        3  \n",
       "top            NaN        S  \n",
       "freq           NaN      646  \n",
       "mean     32.204208      NaN  \n",
       "std      49.693429      NaN  \n",
       "min       0.000000      NaN  \n",
       "25%       7.910400      NaN  \n",
       "50%      14.454200      NaN  \n",
       "75%      31.000000      NaN  \n",
       "max     512.329200      NaN  "
      ]
     },
     "execution_count": 2,
     "metadata": {},
     "output_type": "execute_result"
    }
   ],
   "source": [
    "import numpy as np\n",
    "\n",
    "data.describe(include=[np.number, 'category'])"
   ]
  },
  {
   "cell_type": "markdown",
   "metadata": {},
   "source": [
    "### Exercise"
   ]
  },
  {
   "cell_type": "markdown",
   "metadata": {},
   "source": [
    "Dùng `describe()` để mô tả riêng cột `Embarked`"
   ]
  },
  {
   "cell_type": "code",
   "execution_count": null,
   "metadata": {},
   "outputs": [],
   "source": [
    "# Code vào đây"
   ]
  },
  {
   "cell_type": "code",
   "execution_count": null,
   "metadata": {},
   "outputs": [],
   "source": [
    "%load solutions/describe_embarked.py"
   ]
  },
  {
   "cell_type": "markdown",
   "metadata": {},
   "source": [
    "## Nhận biết các feature quan trọng"
   ]
  },
  {
   "cell_type": "markdown",
   "metadata": {},
   "source": [
    "Câu hỏi quan trọng nhất trong bài toán này là \"những yếu tố nào ảnh hưởng đến khả năng sống còn của 1 người trên tàu Titanic?\". Để trả lời, ta có thể xem xét mối quan hệ giữa từng cột với cột `Survived`. Tuy nhiên ta cứ thử đưa ra 1 vài dự đoán trước:\n",
    "- `Pclass`? Người có hạng vé cao có thể có ưu tiên áo phao\n",
    "- `Sex`? Phụ nữ được ưu tiên, cái này khá chắc chắn\n",
    "- `Age`? Mấy anh trẻ khỏe đương nhiên dễ sống hơn mấy ông già rồi\n",
    "- `Name`? Có thể thấy tên bao gồm cả _title_, ví dụ `Capt`, `Lady`... thể hiện địa vị xã hội của người đó. Ngoài ra có thể lấy ra họ của từng người, từ đó đoán thêm 1 số thông tin như sắc tộc, xuất xứ...\n",
    "- Số lượng anh em, vợ/chồng `SibSp`? Bố mẹ con cái `Parch`? Có thể vì cứu nhau mà cùng sống hoặc cùng chết.\n",
    "- Giá vé `Fare`? Nếu giá vé quyết định khoang ở thì có thể có ảnh hưởng, vì có khoang chìm trước khoang chìm sau.\n",
    "- Điểm lên tàu `Embarked`? Tương tự `Fare`, có thể nó có ảnh hưởng đến khoang ở trên tàu."
   ]
  },
  {
   "cell_type": "markdown",
   "metadata": {},
   "source": [
    "Hầu hết các cột đã ở dạng rất dễ tham chiếu, chỉ có cột `Name` là có nhiều data thừa. Tạm không đụng đến họ mà chỉ quan tâm đến title, ta nên bóc tách phần thông tin cần thiết ra để dễ tham chiếu sau này.\n",
    "\n",
    "Ngoài ra, có thể tính được số người trong gia đình trên tàu bằng cách cộng `SibSp` và `Parch`"
   ]
  },
  {
   "cell_type": "markdown",
   "metadata": {},
   "source": [
    "## Feature engineering"
   ]
  },
  {
   "cell_type": "markdown",
   "metadata": {},
   "source": [
    "Trước hết ta cần 1 function để lấy được title từ tên người. Regular Expression là perfect cho việc này. Thư viện Regular Expression trong Python là `re`"
   ]
  },
  {
   "cell_type": "code",
   "execution_count": 3,
   "metadata": {},
   "outputs": [
    {
     "name": "stdout",
     "output_type": "stream",
     "text": [
      "Mr\n",
      "Mrs\n",
      "Miss\n",
      "Mrs\n",
      "Mr\n",
      "Mr\n",
      "Mr\n",
      "Master\n",
      "Mrs\n"
     ]
    }
   ],
   "source": [
    "import re\n",
    "\n",
    "name_pattern = re.compile('.*, ([^.]*)\\..*')\n",
    "\n",
    "def get_title_from_name(name):\n",
    "    m = name_pattern.match(name)\n",
    "    if not m:\n",
    "        raise ValueError(f'Name doesn\\'t match pattern: {name}')\n",
    "    return m.group(1)\n",
    "\n",
    "# Test qua\n",
    "for i in range(1, 10):\n",
    "    print(get_title_from_name(data.loc[i, 'Name']))"
   ]
  },
  {
   "cell_type": "markdown",
   "metadata": {},
   "source": [
    "Trông có vẻ ổn rồi. Giờ áp dụng trên toàn bộ cột `Name` để tạo ra cột mới `Title`"
   ]
  },
  {
   "cell_type": "code",
   "execution_count": 4,
   "metadata": {},
   "outputs": [
    {
     "data": {
      "text/plain": [
       "PassengerId\n",
       "1        Mr\n",
       "2       Mrs\n",
       "3      Miss\n",
       "4       Mrs\n",
       "5        Mr\n",
       "6        Mr\n",
       "7        Mr\n",
       "       ... \n",
       "885      Mr\n",
       "886     Mrs\n",
       "887     Rev\n",
       "888    Miss\n",
       "889    Miss\n",
       "890      Mr\n",
       "891      Mr\n",
       "Name: Title, Length: 891, dtype: category\n",
       "Categories (17, object): [Capt, Col, Don, Dr, ..., Ms, Rev, Sir, the Countess]"
      ]
     },
     "execution_count": 4,
     "metadata": {},
     "output_type": "execute_result"
    }
   ],
   "source": [
    "data['Title'] = data['Name'].apply(get_title_from_name).astype('category')\n",
    "data['Title']"
   ]
  },
  {
   "cell_type": "markdown",
   "metadata": {},
   "source": [
    "Cột `Name` đã không còn giá trị, xóa"
   ]
  },
  {
   "cell_type": "code",
   "execution_count": 5,
   "metadata": {},
   "outputs": [],
   "source": [
    "data.drop(columns='Name', inplace=True)"
   ]
  },
  {
   "cell_type": "markdown",
   "metadata": {},
   "source": [
    "Thử xem tần suất xuất hiện của từng title như thế nào"
   ]
  },
  {
   "cell_type": "code",
   "execution_count": null,
   "metadata": {},
   "outputs": [],
   "source": [
    "with pd.option_context('max.rows', 20):\n",
    "    print(data['Title'].value_counts())"
   ]
  },
  {
   "cell_type": "markdown",
   "metadata": {},
   "source": [
    "Chú ý:\n",
    "- `Mlle` (tiếng Pháp) = `Miss` (tiếng Anh), `Mme` (tiếng Pháp) = `Mrs` (tiếng Anh)\n",
    "- Chỉ có 1 `Ms`, không đáng để để thành 1 category riêng, có thể ghép vào với `Miss`\n",
    "- Ngoài `Mr`, `Miss`, `Mrs`, `Mlle`, `Mme`, `Ms` thì các title còn lại đều dành cho quý tộc/người được trọng vọng, và có tần suất xuất hiện rất thấp. Có thể gộp vào thành 1 category `High standing`"
   ]
  },
  {
   "cell_type": "code",
   "execution_count": 6,
   "metadata": {},
   "outputs": [
    {
     "name": "stdout",
     "output_type": "stream",
     "text": [
      "Mr              517\n",
      "Miss            185\n",
      "Mrs             126\n",
      "Master           40\n",
      "Dr                7\n",
      "Rev               6\n",
      "Col               2\n",
      "Major             2\n",
      "Lady              1\n",
      "Don               1\n",
      "Jonkheer          1\n",
      "the Countess      1\n",
      "Sir               1\n",
      "Capt              1\n",
      "Mlle              0\n",
      "Mme               0\n",
      "Ms                0\n",
      "Name: Title, dtype: int64\n"
     ]
    }
   ],
   "source": [
    "# Đổi Mlle, Ms -> Miss, Mme -> Mrs\n",
    "data['Title'] = data['Title'].replace(['Mlle', 'Ms'], 'Miss')\n",
    "data['Title'] = data['Title'].replace(['Mme'], 'Mrs')\n",
    "\n",
    "with pd.option_context('max.rows', 20):\n",
    "    print(data['Title'].value_counts())"
   ]
  },
  {
   "cell_type": "markdown",
   "metadata": {},
   "source": [
    "Các category còn lại thì lằng nhằng hơn do pandas không có hàm merge category. Có thể xóa toàn bộ các category này để biến các value tương ứng bị `null`, rồi điền `High standing` vào tất cả các chỗ `null`"
   ]
  },
  {
   "cell_type": "code",
   "execution_count": 7,
   "metadata": {},
   "outputs": [
    {
     "data": {
      "text/plain": [
       "PassengerId\n",
       "1                 Mr\n",
       "2                Mrs\n",
       "3               Miss\n",
       "4                Mrs\n",
       "5                 Mr\n",
       "6                 Mr\n",
       "7                 Mr\n",
       "           ...      \n",
       "885               Mr\n",
       "886              Mrs\n",
       "887    High Standing\n",
       "888             Miss\n",
       "889             Miss\n",
       "890               Mr\n",
       "891               Mr\n",
       "Name: Title, Length: 891, dtype: category\n",
       "Categories (4, object): [Mr, Mrs, Miss, High Standing]"
      ]
     },
     "execution_count": 7,
     "metadata": {},
     "output_type": "execute_result"
    }
   ],
   "source": [
    "data['Title'].cat.set_categories(('Mr', 'Mrs', 'Miss', 'High Standing'), inplace=True)\n",
    "data['Title'].fillna('High Standing', inplace=True)\n",
    "data['Title']"
   ]
  },
  {
   "cell_type": "markdown",
   "metadata": {},
   "source": [
    "### Exercise"
   ]
  },
  {
   "cell_type": "markdown",
   "metadata": {},
   "source": [
    "Tạo thêm cột `FamilySize` sử dụng cột `SibSp` và `Parch`"
   ]
  },
  {
   "cell_type": "code",
   "execution_count": null,
   "metadata": {},
   "outputs": [],
   "source": [
    "# Code vào đây"
   ]
  },
  {
   "cell_type": "code",
   "execution_count": 9,
   "metadata": {},
   "outputs": [],
   "source": [
    "# %load solutions/create_family_size.py\n",
    "data['FamilySize'] = data['SibSp'] + data['Parch'] + 1  # Cộng thêm cả bản thân người đó nữa"
   ]
  },
  {
   "cell_type": "markdown",
   "metadata": {},
   "source": [
    "## Visualize"
   ]
  },
  {
   "cell_type": "markdown",
   "metadata": {},
   "source": [
    "Đã đến lúc xem xem những dự đoán ban đầu của chúng ta chính xác hay không. Ta sẽ so sánh từng cột với cột `Survived`"
   ]
  },
  {
   "cell_type": "markdown",
   "metadata": {},
   "source": [
    "Để visualize data trong Python, có 2 thư viện phổ biến nhất là `matplotlib` và `seaborn`"
   ]
  },
  {
   "cell_type": "code",
   "execution_count": 10,
   "metadata": {},
   "outputs": [],
   "source": [
    "import matplotlib.pyplot as plt\n",
    "import seaborn as sns"
   ]
  },
  {
   "cell_type": "markdown",
   "metadata": {},
   "source": [
    "### Pclass"
   ]
  },
  {
   "cell_type": "code",
   "execution_count": 16,
   "metadata": {},
   "outputs": [
    {
     "data": {
      "text/html": [
       "<style  type=\"text/css\" >\n",
       "    #T_ab43d8ce_e16c_11e7_8b31_f44d30eb6194row0_col0 {\n",
       "            background-color:  #ffff66;\n",
       "        }    #T_ab43d8ce_e16c_11e7_8b31_f44d30eb6194row0_col1 {\n",
       "            background-color:  #cee666;\n",
       "        }    #T_ab43d8ce_e16c_11e7_8b31_f44d30eb6194row0_col2 {\n",
       "            background-color:  #f4fa66;\n",
       "        }    #T_ab43d8ce_e16c_11e7_8b31_f44d30eb6194row1_col0 {\n",
       "            background-color:  #f6fa66;\n",
       "        }    #T_ab43d8ce_e16c_11e7_8b31_f44d30eb6194row1_col1 {\n",
       "            background-color:  #ffff66;\n",
       "        }    #T_ab43d8ce_e16c_11e7_8b31_f44d30eb6194row1_col2 {\n",
       "            background-color:  #ffff66;\n",
       "        }    #T_ab43d8ce_e16c_11e7_8b31_f44d30eb6194row2_col0 {\n",
       "            background-color:  #60b066;\n",
       "        }    #T_ab43d8ce_e16c_11e7_8b31_f44d30eb6194row2_col1 {\n",
       "            background-color:  #dfef66;\n",
       "        }    #T_ab43d8ce_e16c_11e7_8b31_f44d30eb6194row2_col2 {\n",
       "            background-color:  #90c866;\n",
       "        }    #T_ab43d8ce_e16c_11e7_8b31_f44d30eb6194row3_col0 {\n",
       "            background-color:  #008066;\n",
       "        }    #T_ab43d8ce_e16c_11e7_8b31_f44d30eb6194row3_col1 {\n",
       "            background-color:  #008066;\n",
       "        }    #T_ab43d8ce_e16c_11e7_8b31_f44d30eb6194row3_col2 {\n",
       "            background-color:  #008066;\n",
       "        }</style>  \n",
       "<table id=\"T_ab43d8ce_e16c_11e7_8b31_f44d30eb6194\" > \n",
       "<thead>    <tr> \n",
       "        <th class=\"index_name level0\" >Survived</th> \n",
       "        <th class=\"col_heading level0 col0\" >0</th> \n",
       "        <th class=\"col_heading level0 col1\" >1</th> \n",
       "        <th class=\"col_heading level0 col2\" >All</th> \n",
       "    </tr>    <tr> \n",
       "        <th class=\"index_name level0\" >Pclass</th> \n",
       "        <th class=\"blank\" ></th> \n",
       "        <th class=\"blank\" ></th> \n",
       "        <th class=\"blank\" ></th> \n",
       "    </tr></thead> \n",
       "<tbody>    <tr> \n",
       "        <th id=\"T_ab43d8ce_e16c_11e7_8b31_f44d30eb6194level0_row0\" class=\"row_heading level0 row0\" >1</th> \n",
       "        <td id=\"T_ab43d8ce_e16c_11e7_8b31_f44d30eb6194row0_col0\" class=\"data row0 col0\" >80</td> \n",
       "        <td id=\"T_ab43d8ce_e16c_11e7_8b31_f44d30eb6194row0_col1\" class=\"data row0 col1\" >136</td> \n",
       "        <td id=\"T_ab43d8ce_e16c_11e7_8b31_f44d30eb6194row0_col2\" class=\"data row0 col2\" >216</td> \n",
       "    </tr>    <tr> \n",
       "        <th id=\"T_ab43d8ce_e16c_11e7_8b31_f44d30eb6194level0_row1\" class=\"row_heading level0 row1\" >2</th> \n",
       "        <td id=\"T_ab43d8ce_e16c_11e7_8b31_f44d30eb6194row1_col0\" class=\"data row1 col0\" >97</td> \n",
       "        <td id=\"T_ab43d8ce_e16c_11e7_8b31_f44d30eb6194row1_col1\" class=\"data row1 col1\" >87</td> \n",
       "        <td id=\"T_ab43d8ce_e16c_11e7_8b31_f44d30eb6194row1_col2\" class=\"data row1 col2\" >184</td> \n",
       "    </tr>    <tr> \n",
       "        <th id=\"T_ab43d8ce_e16c_11e7_8b31_f44d30eb6194level0_row2\" class=\"row_heading level0 row2\" >3</th> \n",
       "        <td id=\"T_ab43d8ce_e16c_11e7_8b31_f44d30eb6194row2_col0\" class=\"data row2 col0\" >372</td> \n",
       "        <td id=\"T_ab43d8ce_e16c_11e7_8b31_f44d30eb6194row2_col1\" class=\"data row2 col1\" >119</td> \n",
       "        <td id=\"T_ab43d8ce_e16c_11e7_8b31_f44d30eb6194row2_col2\" class=\"data row2 col2\" >491</td> \n",
       "    </tr>    <tr> \n",
       "        <th id=\"T_ab43d8ce_e16c_11e7_8b31_f44d30eb6194level0_row3\" class=\"row_heading level0 row3\" >All</th> \n",
       "        <td id=\"T_ab43d8ce_e16c_11e7_8b31_f44d30eb6194row3_col0\" class=\"data row3 col0\" >549</td> \n",
       "        <td id=\"T_ab43d8ce_e16c_11e7_8b31_f44d30eb6194row3_col1\" class=\"data row3 col1\" >342</td> \n",
       "        <td id=\"T_ab43d8ce_e16c_11e7_8b31_f44d30eb6194row3_col2\" class=\"data row3 col2\" >891</td> \n",
       "    </tr></tbody> \n",
       "</table> "
      ],
      "text/plain": [
       "<pandas.io.formats.style.Styler at 0x7f73bde4ccf8>"
      ]
     },
     "execution_count": 16,
     "metadata": {},
     "output_type": "execute_result"
    }
   ],
   "source": [
    "pd.crosstab(data['Pclass'],data['Survived'], margins=True).style.background_gradient(cmap='summer_r')"
   ]
  },
  {
   "cell_type": "code",
   "execution_count": 24,
   "metadata": {},
   "outputs": [
    {
     "data": {
      "image/png": "[encoded data removed]",
      "text/plain": [
       "<matplotlib.figure.Figure at 0x7f73bddd67f0>"
      ]
     },
     "metadata": {},
     "output_type": "display_data"
    }
   ],
   "source": [
    "f, ax=plt.subplots(1, 2, figsize=(18, 8))\n",
    "data[['Pclass','Survived']].groupby(['Pclass']).mean().plot.bar(ax=ax[0])\n",
    "ax[0].set_title('Survival rate by Pclass')\n",
    "sns.countplot('Pclass',hue='Survived', data=data, ax=ax[1])\n",
    "ax[1].set_title('Pclass: Survived vs Dead')\n",
    "plt.show()"
   ]
  },
  {
   "cell_type": "markdown",
   "metadata": {},
   "source": [
    "Có thể thấy mấy ông class 1 có tỉ lệ sống cao hơn chết, còn class 3 thì T__T. Có tiền có khác!"
   ]
  },
  {
   "cell_type": "markdown",
   "metadata": {},
   "source": [
    "### Sex"
   ]
  },
  {
   "cell_type": "code",
   "execution_count": 17,
   "metadata": {},
   "outputs": [
    {
     "data": {
      "text/html": [
       "<style  type=\"text/css\" >\n",
       "    #T_b480d2e8_e16c_11e7_8b31_f44d30eb6194row0_col0 {\n",
       "            background-color:  #ffff66;\n",
       "        }    #T_b480d2e8_e16c_11e7_8b31_f44d30eb6194row0_col1 {\n",
       "            background-color:  #77bb66;\n",
       "        }    #T_b480d2e8_e16c_11e7_8b31_f44d30eb6194row0_col2 {\n",
       "            background-color:  #ffff66;\n",
       "        }    #T_b480d2e8_e16c_11e7_8b31_f44d30eb6194row1_col0 {\n",
       "            background-color:  #2c9666;\n",
       "        }    #T_b480d2e8_e16c_11e7_8b31_f44d30eb6194row1_col1 {\n",
       "            background-color:  #ffff66;\n",
       "        }    #T_b480d2e8_e16c_11e7_8b31_f44d30eb6194row1_col2 {\n",
       "            background-color:  #8bc566;\n",
       "        }    #T_b480d2e8_e16c_11e7_8b31_f44d30eb6194row2_col0 {\n",
       "            background-color:  #008066;\n",
       "        }    #T_b480d2e8_e16c_11e7_8b31_f44d30eb6194row2_col1 {\n",
       "            background-color:  #008066;\n",
       "        }    #T_b480d2e8_e16c_11e7_8b31_f44d30eb6194row2_col2 {\n",
       "            background-color:  #008066;\n",
       "        }</style>  \n",
       "<table id=\"T_b480d2e8_e16c_11e7_8b31_f44d30eb6194\" > \n",
       "<thead>    <tr> \n",
       "        <th class=\"index_name level0\" >Survived</th> \n",
       "        <th class=\"col_heading level0 col0\" >0</th> \n",
       "        <th class=\"col_heading level0 col1\" >1</th> \n",
       "        <th class=\"col_heading level0 col2\" >All</th> \n",
       "    </tr>    <tr> \n",
       "        <th class=\"index_name level0\" >Sex</th> \n",
       "        <th class=\"blank\" ></th> \n",
       "        <th class=\"blank\" ></th> \n",
       "        <th class=\"blank\" ></th> \n",
       "    </tr></thead> \n",
       "<tbody>    <tr> \n",
       "        <th id=\"T_b480d2e8_e16c_11e7_8b31_f44d30eb6194level0_row0\" class=\"row_heading level0 row0\" >female</th> \n",
       "        <td id=\"T_b480d2e8_e16c_11e7_8b31_f44d30eb6194row0_col0\" class=\"data row0 col0\" >81</td> \n",
       "        <td id=\"T_b480d2e8_e16c_11e7_8b31_f44d30eb6194row0_col1\" class=\"data row0 col1\" >233</td> \n",
       "        <td id=\"T_b480d2e8_e16c_11e7_8b31_f44d30eb6194row0_col2\" class=\"data row0 col2\" >314</td> \n",
       "    </tr>    <tr> \n",
       "        <th id=\"T_b480d2e8_e16c_11e7_8b31_f44d30eb6194level0_row1\" class=\"row_heading level0 row1\" >male</th> \n",
       "        <td id=\"T_b480d2e8_e16c_11e7_8b31_f44d30eb6194row1_col0\" class=\"data row1 col0\" >468</td> \n",
       "        <td id=\"T_b480d2e8_e16c_11e7_8b31_f44d30eb6194row1_col1\" class=\"data row1 col1\" >109</td> \n",
       "        <td id=\"T_b480d2e8_e16c_11e7_8b31_f44d30eb6194row1_col2\" class=\"data row1 col2\" >577</td> \n",
       "    </tr>    <tr> \n",
       "        <th id=\"T_b480d2e8_e16c_11e7_8b31_f44d30eb6194level0_row2\" class=\"row_heading level0 row2\" >All</th> \n",
       "        <td id=\"T_b480d2e8_e16c_11e7_8b31_f44d30eb6194row2_col0\" class=\"data row2 col0\" >549</td> \n",
       "        <td id=\"T_b480d2e8_e16c_11e7_8b31_f44d30eb6194row2_col1\" class=\"data row2 col1\" >342</td> \n",
       "        <td id=\"T_b480d2e8_e16c_11e7_8b31_f44d30eb6194row2_col2\" class=\"data row2 col2\" >891</td> \n",
       "    </tr></tbody> \n",
       "</table> "
      ],
      "text/plain": [
       "<pandas.io.formats.style.Styler at 0x7f73bde1bc88>"
      ]
     },
     "execution_count": 17,
     "metadata": {},
     "output_type": "execute_result"
    }
   ],
   "source": [
    "pd.crosstab(data['Sex'],data['Survived'], margins=True).style.background_gradient(cmap='summer_r')"
   ]
  },
  {
   "cell_type": "code",
   "execution_count": 25,
   "metadata": {},
   "outputs": [
    {
     "data": {
      "image/png": "[encoded data removed]",
      "text/plain": [
       "<matplotlib.figure.Figure at 0x7f73bdde6278>"
      ]
     },
     "metadata": {},
     "output_type": "display_data"
    }
   ],
   "source": [
    "f, ax=plt.subplots(1, 2, figsize=(18, 8))\n",
    "data[['Sex','Survived']].groupby(['Sex']).mean().plot.bar(ax=ax[0])\n",
    "ax[0].set_title('Survival rate by Sex')\n",
    "sns.countplot('Sex',hue='Survived', data=data, ax=ax[1])\n",
    "ax[1].set_title('Sex: Survived vs Dead')\n",
    "plt.show()"
   ]
  },
  {
   "cell_type": "markdown",
   "metadata": {},
   "source": [
    "Đúng là nữ giới được ưu tiên hơn. Cỡ 75% nữ sống trong khi nam chỉ được tầm 20%."
   ]
  },
  {
   "cell_type": "code",
   "execution_count": null,
   "metadata": {},
   "outputs": [],
   "source": []
  }
 ],
 "metadata": {
  "kernelspec": {
   "display_name": "Python 3",
   "language": "python",
   "name": "python3"
  },
  "language_info": {
   "codemirror_mode": {
    "name": "ipython",
    "version": 3
   },
   "file_extension": ".py",
   "mimetype": "text/x-python",
   "name": "python",
   "nbconvert_exporter": "python",
   "pygments_lexer": "ipython3",
   "version": "3.6.3"
  }
 },
 "nbformat": 4,
 "nbformat_minor": 2
}
