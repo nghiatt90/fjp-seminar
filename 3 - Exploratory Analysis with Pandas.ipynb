{
 "cells": [
  {
   "cell_type": "markdown",
   "metadata": {},
   "source": [
    "# Khám phá dữ liệu"
   ]
  },
  {
   "cell_type": "markdown",
   "metadata": {},
   "source": [
    "Tạm thời dừng việc làm sạch dữ liệu, ta chuyển sang xem có thể rút ra được những nhận xét gì từ bộ data này.\n",
    "\n",
    "Trước hết cứ load lại dữ liệu"
   ]
  },
  {
   "cell_type": "code",
   "execution_count": 1,
   "metadata": {},
   "outputs": [],
   "source": [
    "# %load loaddata.py\n",
    "import pandas as pd\n",
    "\n",
    "pd.set_option('max.rows', 14)\n",
    "\n",
    "data = pd.read_csv(\n",
    "    'data/titanic.csv',\n",
    "    index_col='PassengerId',\n",
    "    usecols=lambda col: col not in ('Cabin', 'Ticket'),\n",
    "    dtype={\n",
    "        'Pclass': 'category',\n",
    "        'Sex': 'category',\n",
    "        'Embarked': 'category'\n",
    "    }\n",
    ")\n",
    "\n",
    "data['Age'] = (data['Age'].fillna(data['Age'].mean())\n",
    "                          .astype(int))\n",
    "data['Embarked'].fillna(data['Embarked'].mode()[0], inplace=True)\n"
   ]
  },
  {
   "cell_type": "code",
   "execution_count": null,
   "metadata": {},
   "outputs": [],
   "source": [
    "data.info()"
   ]
  },
  {
   "cell_type": "markdown",
   "metadata": {},
   "source": [
    "Ngoài `info()` thì còn có hàm `describe()` mô tả cụ thể hơn"
   ]
  },
  {
   "cell_type": "code",
   "execution_count": null,
   "metadata": {},
   "outputs": [],
   "source": [
    "data.describe()"
   ]
  },
  {
   "cell_type": "markdown",
   "metadata": {},
   "source": [
    "Mặc định thì `describe()` chỉ mô tả các cột có kiểu dữ liệu số. Nếu muốn hiện hết thì có thể dùng parameter `include`"
   ]
  },
  {
   "cell_type": "code",
   "execution_count": null,
   "metadata": {},
   "outputs": [],
   "source": [
    "data.describe(include='all')"
   ]
  },
  {
   "cell_type": "markdown",
   "metadata": {},
   "source": [
    "Cũng có thể dùng `include` để chọn ra những loại dữ liệu cụ thể"
   ]
  },
  {
   "cell_type": "code",
   "execution_count": 2,
   "metadata": {},
   "outputs": [
    {
     "data": {
      "text/html": [
       "<div>\n",
       "<style scoped>\n",
       "    .dataframe tbody tr th:only-of-type {\n",
       "        vertical-align: middle;\n",
       "    }\n",
       "\n",
       "    .dataframe tbody tr th {\n",
       "        vertical-align: top;\n",
       "    }\n",
       "\n",
       "    .dataframe thead th {\n",
       "        text-align: right;\n",
       "    }\n",
       "</style>\n",
       "<table border=\"1\" class=\"dataframe\">\n",
       "  <thead>\n",
       "    <tr style=\"text-align: right;\">\n",
       "      <th></th>\n",
       "      <th>Survived</th>\n",
       "      <th>Pclass</th>\n",
       "      <th>Sex</th>\n",
       "      <th>Age</th>\n",
       "      <th>SibSp</th>\n",
       "      <th>Parch</th>\n",
       "      <th>Fare</th>\n",
       "      <th>Embarked</th>\n",
       "    </tr>\n",
       "  </thead>\n",
       "  <tbody>\n",
       "    <tr>\n",
       "      <th>count</th>\n",
       "      <td>891.000000</td>\n",
       "      <td>891</td>\n",
       "      <td>891</td>\n",
       "      <td>891.000000</td>\n",
       "      <td>891.000000</td>\n",
       "      <td>891.000000</td>\n",
       "      <td>891.000000</td>\n",
       "      <td>891</td>\n",
       "    </tr>\n",
       "    <tr>\n",
       "      <th>unique</th>\n",
       "      <td>NaN</td>\n",
       "      <td>3</td>\n",
       "      <td>2</td>\n",
       "      <td>NaN</td>\n",
       "      <td>NaN</td>\n",
       "      <td>NaN</td>\n",
       "      <td>NaN</td>\n",
       "      <td>3</td>\n",
       "    </tr>\n",
       "    <tr>\n",
       "      <th>top</th>\n",
       "      <td>NaN</td>\n",
       "      <td>3</td>\n",
       "      <td>male</td>\n",
       "      <td>NaN</td>\n",
       "      <td>NaN</td>\n",
       "      <td>NaN</td>\n",
       "      <td>NaN</td>\n",
       "      <td>S</td>\n",
       "    </tr>\n",
       "    <tr>\n",
       "      <th>freq</th>\n",
       "      <td>NaN</td>\n",
       "      <td>491</td>\n",
       "      <td>577</td>\n",
       "      <td>NaN</td>\n",
       "      <td>NaN</td>\n",
       "      <td>NaN</td>\n",
       "      <td>NaN</td>\n",
       "      <td>646</td>\n",
       "    </tr>\n",
       "    <tr>\n",
       "      <th>mean</th>\n",
       "      <td>0.383838</td>\n",
       "      <td>NaN</td>\n",
       "      <td>NaN</td>\n",
       "      <td>29.544332</td>\n",
       "      <td>0.523008</td>\n",
       "      <td>0.381594</td>\n",
       "      <td>32.204208</td>\n",
       "      <td>NaN</td>\n",
       "    </tr>\n",
       "    <tr>\n",
       "      <th>std</th>\n",
       "      <td>0.486592</td>\n",
       "      <td>NaN</td>\n",
       "      <td>NaN</td>\n",
       "      <td>13.013778</td>\n",
       "      <td>1.102743</td>\n",
       "      <td>0.806057</td>\n",
       "      <td>49.693429</td>\n",
       "      <td>NaN</td>\n",
       "    </tr>\n",
       "    <tr>\n",
       "      <th>min</th>\n",
       "      <td>0.000000</td>\n",
       "      <td>NaN</td>\n",
       "      <td>NaN</td>\n",
       "      <td>0.000000</td>\n",
       "      <td>0.000000</td>\n",
       "      <td>0.000000</td>\n",
       "      <td>0.000000</td>\n",
       "      <td>NaN</td>\n",
       "    </tr>\n",
       "    <tr>\n",
       "      <th>25%</th>\n",
       "      <td>0.000000</td>\n",
       "      <td>NaN</td>\n",
       "      <td>NaN</td>\n",
       "      <td>22.000000</td>\n",
       "      <td>0.000000</td>\n",
       "      <td>0.000000</td>\n",
       "      <td>7.910400</td>\n",
       "      <td>NaN</td>\n",
       "    </tr>\n",
       "    <tr>\n",
       "      <th>50%</th>\n",
       "      <td>0.000000</td>\n",
       "      <td>NaN</td>\n",
       "      <td>NaN</td>\n",
       "      <td>29.000000</td>\n",
       "      <td>0.000000</td>\n",
       "      <td>0.000000</td>\n",
       "      <td>14.454200</td>\n",
       "      <td>NaN</td>\n",
       "    </tr>\n",
       "    <tr>\n",
       "      <th>75%</th>\n",
       "      <td>1.000000</td>\n",
       "      <td>NaN</td>\n",
       "      <td>NaN</td>\n",
       "      <td>35.000000</td>\n",
       "      <td>1.000000</td>\n",
       "      <td>0.000000</td>\n",
       "      <td>31.000000</td>\n",
       "      <td>NaN</td>\n",
       "    </tr>\n",
       "    <tr>\n",
       "      <th>max</th>\n",
       "      <td>1.000000</td>\n",
       "      <td>NaN</td>\n",
       "      <td>NaN</td>\n",
       "      <td>80.000000</td>\n",
       "      <td>8.000000</td>\n",
       "      <td>6.000000</td>\n",
       "      <td>512.329200</td>\n",
       "      <td>NaN</td>\n",
       "    </tr>\n",
       "  </tbody>\n",
       "</table>\n",
       "</div>"
      ],
      "text/plain": [
       "          Survived Pclass   Sex         Age       SibSp       Parch  \\\n",
       "count   891.000000    891   891  891.000000  891.000000  891.000000   \n",
       "unique         NaN      3     2         NaN         NaN         NaN   \n",
       "top            NaN      3  male         NaN         NaN         NaN   \n",
       "freq           NaN    491   577         NaN         NaN         NaN   \n",
       "mean      0.383838    NaN   NaN   29.544332    0.523008    0.381594   \n",
       "std       0.486592    NaN   NaN   13.013778    1.102743    0.806057   \n",
       "min       0.000000    NaN   NaN    0.000000    0.000000    0.000000   \n",
       "25%       0.000000    NaN   NaN   22.000000    0.000000    0.000000   \n",
       "50%       0.000000    NaN   NaN   29.000000    0.000000    0.000000   \n",
       "75%       1.000000    NaN   NaN   35.000000    1.000000    0.000000   \n",
       "max       1.000000    NaN   NaN   80.000000    8.000000    6.000000   \n",
       "\n",
       "              Fare Embarked  \n",
       "count   891.000000      891  \n",
       "unique         NaN        3  \n",
       "top            NaN        S  \n",
       "freq           NaN      646  \n",
       "mean     32.204208      NaN  \n",
       "std      49.693429      NaN  \n",
       "min       0.000000      NaN  \n",
       "25%       7.910400      NaN  \n",
       "50%      14.454200      NaN  \n",
       "75%      31.000000      NaN  \n",
       "max     512.329200      NaN  "
      ]
     },
     "execution_count": 2,
     "metadata": {},
     "output_type": "execute_result"
    }
   ],
   "source": [
    "import numpy as np\n",
    "\n",
    "data.describe(include=[np.number, 'category'])"
   ]
  },
  {
   "cell_type": "markdown",
   "metadata": {},
   "source": [
    "### Exercise"
   ]
  },
  {
   "cell_type": "markdown",
   "metadata": {},
   "source": [
    "Dùng `describe()` để mô tả riêng cột `Embarked`"
   ]
  },
  {
   "cell_type": "code",
   "execution_count": null,
   "metadata": {},
   "outputs": [],
   "source": [
    "# Code vào đây"
   ]
  },
  {
   "cell_type": "code",
   "execution_count": null,
   "metadata": {},
   "outputs": [],
   "source": [
    "%load solutions/describe_embarked.py"
   ]
  },
  {
   "cell_type": "markdown",
   "metadata": {},
   "source": [
    "## Nhận biết các feature quan trọng"
   ]
  },
  {
   "cell_type": "markdown",
   "metadata": {},
   "source": [
    "Câu hỏi quan trọng nhất trong bài toán này là \"những yếu tố nào ảnh hưởng đến khả năng sống còn của 1 người trên tàu Titanic?\". Để trả lời, ta có thể xem xét mối quan hệ giữa từng cột với cột `Survived`. Tuy nhiên ta cứ thử đưa ra 1 vài dự đoán trước:\n",
    "- `Pclass`? Người có hạng vé cao có thể có ưu tiên áo phao\n",
    "- `Sex`? Phụ nữ được ưu tiên, cái này khá chắc chắn\n",
    "- `Age`? Mấy anh trẻ khỏe đương nhiên dễ sống hơn mấy ông già rồi\n",
    "- `Name`? Có thể thấy tên bao gồm cả _title_, ví dụ `Capt`, `Lady`... thể hiện địa vị xã hội của người đó. Ngoài ra có thể lấy ra họ của từng người, từ đó đoán thêm 1 số thông tin như sắc tộc, xuất xứ...\n",
    "- Số lượng anh em, vợ/chồng `SibSp`? Bố mẹ con cái `Parch`? Có thể vì cứu nhau mà cùng sống hoặc cùng chết.\n",
    "- Giá vé `Fare`? Nếu giá vé quyết định khoang ở thì có thể có ảnh hưởng, vì có khoang chìm trước khoang chìm sau.\n",
    "- Điểm lên tàu `Embarked`? Tương tự `Fare`, có thể nó có ảnh hưởng đến khoang ở trên tàu."
   ]
  },
  {
   "cell_type": "markdown",
   "metadata": {},
   "source": [
    "Hầu hết các cột đã ở dạng rất dễ tham chiếu, chỉ có cột `Name` là có nhiều data thừa. Tạm không đụng đến họ mà chỉ quan tâm đến title, ta nên bóc tách phần thông tin cần thiết ra để dễ tham chiếu sau này.\n",
    "\n",
    "Ngoài ra, có thể tính được số người trong gia đình trên tàu bằng cách cộng `SibSp` và `Parch`"
   ]
  },
  {
   "cell_type": "markdown",
   "metadata": {},
   "source": [
    "## Feature engineering"
   ]
  },
  {
   "cell_type": "markdown",
   "metadata": {},
   "source": [
    "Trước hết ta cần 1 function để lấy được title từ tên người. Regular Expression là perfect cho việc này. Thư viện Regular Expression trong Python là `re`"
   ]
  },
  {
   "cell_type": "code",
   "execution_count": 3,
   "metadata": {},
   "outputs": [
    {
     "name": "stdout",
     "output_type": "stream",
     "text": [
      "Mr\n",
      "Mrs\n",
      "Miss\n",
      "Mrs\n",
      "Mr\n",
      "Mr\n",
      "Mr\n",
      "Master\n",
      "Mrs\n"
     ]
    }
   ],
   "source": [
    "import re\n",
    "\n",
    "name_pattern = re.compile('.*, ([^.]*)\\..*')\n",
    "\n",
    "def get_title_from_name(name):\n",
    "    m = name_pattern.match(name)\n",
    "    if not m:\n",
    "        raise ValueError(f'Name doesn\\'t match pattern: {name}')\n",
    "    return m.group(1)\n",
    "\n",
    "# Test qua\n",
    "for i in range(1, 10):\n",
    "    print(get_title_from_name(data.loc[i, 'Name']))"
   ]
  },
  {
   "cell_type": "markdown",
   "metadata": {},
   "source": [
    "Trông có vẻ ổn rồi. Giờ áp dụng trên toàn bộ cột `Name` để tạo ra cột mới `Title`"
   ]
  },
  {
   "cell_type": "code",
   "execution_count": 4,
   "metadata": {},
   "outputs": [
    {
     "data": {
      "text/plain": [
       "PassengerId\n",
       "1        Mr\n",
       "2       Mrs\n",
       "3      Miss\n",
       "4       Mrs\n",
       "5        Mr\n",
       "6        Mr\n",
       "7        Mr\n",
       "       ... \n",
       "885      Mr\n",
       "886     Mrs\n",
       "887     Rev\n",
       "888    Miss\n",
       "889    Miss\n",
       "890      Mr\n",
       "891      Mr\n",
       "Name: Title, Length: 891, dtype: category\n",
       "Categories (17, object): [Capt, Col, Don, Dr, ..., Ms, Rev, Sir, the Countess]"
      ]
     },
     "execution_count": 4,
     "metadata": {},
     "output_type": "execute_result"
    }
   ],
   "source": [
    "data['Title'] = data['Name'].apply(get_title_from_name).astype('category')\n",
    "data['Title']"
   ]
  },
  {
   "cell_type": "markdown",
   "metadata": {},
   "source": [
    "Cột `Name` đã không còn giá trị, xóa"
   ]
  },
  {
   "cell_type": "code",
   "execution_count": 5,
   "metadata": {},
   "outputs": [],
   "source": [
    "data.drop(columns='Name', inplace=True)"
   ]
  },
  {
   "cell_type": "markdown",
   "metadata": {},
   "source": [
    "Thử xem tần suất xuất hiện của từng title như thế nào"
   ]
  },
  {
   "cell_type": "code",
   "execution_count": null,
   "metadata": {},
   "outputs": [],
   "source": [
    "with pd.option_context('max.rows', 20):\n",
    "    print(data['Title'].value_counts())"
   ]
  },
  {
   "cell_type": "markdown",
   "metadata": {},
   "source": [
    "Chú ý:\n",
    "- `Mlle` (tiếng Pháp) = `Miss` (tiếng Anh), `Mme` (tiếng Pháp) = `Mrs` (tiếng Anh)\n",
    "- Chỉ có 1 `Ms`, không đáng để để thành 1 category riêng, có thể ghép vào với `Miss`\n",
    "- Ngoài `Mr`, `Miss`, `Mrs`, `Mlle`, `Mme`, `Ms`, `Master` thì các title còn lại đều dành cho quý tộc/người được trọng vọng, và có tần suất xuất hiện rất thấp. Có thể gộp vào thành 1 category `High standing`"
   ]
  },
  {
   "cell_type": "code",
   "execution_count": 6,
   "metadata": {},
   "outputs": [
    {
     "name": "stdout",
     "output_type": "stream",
     "text": [
      "Mr              517\n",
      "Miss            185\n",
      "Mrs             126\n",
      "Master           40\n",
      "Dr                7\n",
      "Rev               6\n",
      "Col               2\n",
      "Major             2\n",
      "Lady              1\n",
      "Don               1\n",
      "Jonkheer          1\n",
      "the Countess      1\n",
      "Sir               1\n",
      "Capt              1\n",
      "Mlle              0\n",
      "Mme               0\n",
      "Ms                0\n",
      "Name: Title, dtype: int64\n"
     ]
    }
   ],
   "source": [
    "# Đổi Mlle, Ms -> Miss, Mme -> Mrs\n",
    "data['Title'] = data['Title'].replace(['Mlle', 'Ms'], 'Miss')\n",
    "data['Title'] = data['Title'].replace(['Mme'], 'Mrs')\n",
    "\n",
    "with pd.option_context('max.rows', 20):\n",
    "    print(data['Title'].value_counts())"
   ]
  },
  {
   "cell_type": "markdown",
   "metadata": {},
   "source": [
    "Các category còn lại thì lằng nhằng hơn do pandas không có hàm merge category. Có thể xóa toàn bộ các category này để biến các value tương ứng bị `null`, rồi điền `High standing` vào tất cả các chỗ `null`"
   ]
  },
  {
   "cell_type": "code",
   "execution_count": 7,
   "metadata": {},
   "outputs": [
    {
     "data": {
      "text/plain": [
       "Mr               517\n",
       "Miss             185\n",
       "Mrs              126\n",
       "Master            40\n",
       "High Standing     23\n",
       "Name: Title, dtype: int64"
      ]
     },
     "execution_count": 7,
     "metadata": {},
     "output_type": "execute_result"
    }
   ],
   "source": [
    "data['Title'].cat.set_categories(('Mr', 'Mrs', 'Miss', 'Master', 'High Standing'), inplace=True)\n",
    "data['Title'].fillna('High Standing', inplace=True)\n",
    "data['Title'].value_counts()"
   ]
  },
  {
   "cell_type": "markdown",
   "metadata": {},
   "source": [
    "### Exercise"
   ]
  },
  {
   "cell_type": "markdown",
   "metadata": {},
   "source": [
    "Tạo thêm cột `FamilySize` sử dụng cột `SibSp` và `Parch`. Sau đó xóa bỏ 2 cột này."
   ]
  },
  {
   "cell_type": "code",
   "execution_count": null,
   "metadata": {},
   "outputs": [],
   "source": [
    "# Code vào đây"
   ]
  },
  {
   "cell_type": "code",
   "execution_count": 23,
   "metadata": {},
   "outputs": [],
   "source": [
    "%load solutions/create_family_size.py"
   ]
  },
  {
   "cell_type": "markdown",
   "metadata": {},
   "source": [
    "## Visualize"
   ]
  },
  {
   "cell_type": "markdown",
   "metadata": {},
   "source": [
    "Đã đến lúc xem xem những dự đoán ban đầu của chúng ta chính xác hay không. Ta sẽ so sánh từng cột với cột `Survived`"
   ]
  },
  {
   "cell_type": "markdown",
   "metadata": {},
   "source": [
    "Để visualize data trong Python, có 2 thư viện phổ biến nhất là `matplotlib` và `seaborn`"
   ]
  },
  {
   "cell_type": "code",
   "execution_count": 9,
   "metadata": {},
   "outputs": [],
   "source": [
    "import matplotlib.pyplot as plt\n",
    "import seaborn as sns"
   ]
  },
  {
   "cell_type": "markdown",
   "metadata": {},
   "source": [
    "Trước hết hãy thử xem tỉ lệ sống/chết như thế nào"
   ]
  },
  {
   "cell_type": "code",
   "execution_count": 10,
   "metadata": {},
   "outputs": [
    {
     "data": {
      "image/png": "[encoded data removed]",
      "text/plain": [
       "<matplotlib.figure.Figure at 0x7f3f9c8fc358>"
      ]
     },
     "metadata": {},
     "output_type": "display_data"
    }
   ],
   "source": [
    "f, ax=plt.subplots(1, 2, figsize=(18, 8))\n",
    "data['Survived'].value_counts().plot.pie(explode=[0, 0.1], autopct='%1.1f%%', ax=ax[0],shadow=True)\n",
    "ax[0].set_title('Survived')\n",
    "ax[0].set_ylabel('')\n",
    "sns.countplot('Survived', data=data, ax=ax[1])\n",
    "ax[1].set_title('Survived')\n",
    "plt.show()"
   ]
  },
  {
   "cell_type": "markdown",
   "metadata": {},
   "source": [
    "OK, 61.6% chết và 38.4% sống. Giờ hãy xem cụ thể từng cột"
   ]
  },
  {
   "cell_type": "markdown",
   "metadata": {},
   "source": [
    "### Pclass"
   ]
  },
  {
   "cell_type": "code",
   "execution_count": null,
   "metadata": {},
   "outputs": [],
   "source": [
    "pd.crosstab(data['Pclass'], data['Survived'], margins=True).style.background_gradient(cmap='summer_r')"
   ]
  },
  {
   "cell_type": "code",
   "execution_count": null,
   "metadata": {},
   "outputs": [],
   "source": [
    "f, ax = plt.subplots(1, 2, figsize=(18, 8))\n",
    "data[['Pclass','Survived']].groupby(['Pclass']).mean().plot.bar(ax=ax[0])\n",
    "ax[0].set_title('Survival rate by Pclass')\n",
    "sns.countplot('Pclass', hue='Survived', data=data, ax=ax[1])\n",
    "ax[1].set_title('Pclass: Survived vs Dead')\n",
    "plt.show()"
   ]
  },
  {
   "cell_type": "markdown",
   "metadata": {},
   "source": [
    "Có thể thấy mấy ông class 1 có tỉ lệ sống cao hơn chết, còn class 3 thì T__T. Có tiền có khác!"
   ]
  },
  {
   "cell_type": "markdown",
   "metadata": {},
   "source": [
    "### Sex"
   ]
  },
  {
   "cell_type": "code",
   "execution_count": null,
   "metadata": {},
   "outputs": [],
   "source": [
    "pd.crosstab(data['Sex'], data['Survived'], margins=True).style.background_gradient(cmap='summer_r')"
   ]
  },
  {
   "cell_type": "code",
   "execution_count": null,
   "metadata": {},
   "outputs": [],
   "source": [
    "f, ax = plt.subplots(1, 2, figsize=(18, 8))\n",
    "data[['Sex','Survived']].groupby(['Sex']).mean().plot.bar(ax=ax[0])\n",
    "ax[0].set_title('Survival rate by Sex')\n",
    "sns.countplot('Sex', hue='Survived', data=data, ax=ax[1])\n",
    "ax[1].set_title('Sex: Survived vs Dead')\n",
    "plt.show()"
   ]
  },
  {
   "cell_type": "markdown",
   "metadata": {},
   "source": [
    "Đúng là nữ giới được ưu tiên hơn. Cỡ 75% nữ sống trong khi nam chỉ được tầm 20%."
   ]
  },
  {
   "cell_type": "markdown",
   "metadata": {},
   "source": [
    "### Title"
   ]
  },
  {
   "cell_type": "code",
   "execution_count": null,
   "metadata": {},
   "outputs": [],
   "source": [
    "pd.crosstab(data['Title'], data['Survived'], margins=True).style.background_gradient(cmap='summer_r')"
   ]
  },
  {
   "cell_type": "code",
   "execution_count": null,
   "metadata": {},
   "outputs": [],
   "source": [
    "f, ax = plt.subplots(1, 2, figsize=(18, 8))\n",
    "data[['Title','Survived']].groupby(['Title']).mean().plot.bar(ax=ax[0])\n",
    "ax[0].set_title('Survival rate by Title')\n",
    "sns.countplot('Title', hue='Survived', data=data, ax=ax[1])\n",
    "ax[1].set_title('Title: Survived vs Dead')\n",
    "plt.show()"
   ]
  },
  {
   "cell_type": "markdown",
   "metadata": {},
   "source": [
    "`Mrs` và `Miss` có tỉ lệ sống cao nhất, và thấp nhất là `Mr`. Cái này đơn giản là do giới tính. `Master` cũng có tỉ lệ sống rất cao, tức là trẻ con được ưu tiên. Mấy ông `High Standing` có tỉ lệ sống sót xấp xỉ tỉ lệ chung (38.4%), chứng tỏ có địa vị cao cũng không có nhiều giá trị lắm."
   ]
  },
  {
   "cell_type": "markdown",
   "metadata": {},
   "source": [
    "### Age"
   ]
  },
  {
   "cell_type": "code",
   "execution_count": 19,
   "metadata": {},
   "outputs": [
    {
     "data": {
      "image/png": "[encoded data removed]",
      "text/plain": [
       "<matplotlib.figure.Figure at 0x7f3f99bb5940>"
      ]
     },
     "metadata": {},
     "output_type": "display_data"
    }
   ],
   "source": [
    "msurv = data[(data['Survived'] == 1) & (data['Sex'] == 'male')]\n",
    "fsurv = data[(data['Survived'] == 1) & (data['Sex'] == 'female')]\n",
    "mnosurv = data[(data['Survived'] == 0) & (data['Sex'] == 'male')]\n",
    "fnosurv = data[(data['Survived'] == 0) & (data['Sex'] == 'female')]\n",
    "\n",
    "plt.figure(figsize=[13, 5])\n",
    "plt.subplot(121)\n",
    "sns.distplot(fsurv['Age'].values, bins=range(0, 85, 5), kde=False, color='blue')\n",
    "sns.distplot(fnosurv['Age'].values, bins=range(0, 85, 5), kde=False, color='red', axlabel='Female Age')\n",
    "plt.subplot(122)\n",
    "sns.distplot(msurv['Age'].values, bins=range(0, 85, 5), kde=False, color='blue')\n",
    "sns.distplot(mnosurv['Age'].values, bins=range(0, 85, 5), kde=False, color='red', axlabel='Male Age')\n",
    "plt.show()"
   ]
  },
  {
   "cell_type": "markdown",
   "metadata": {},
   "source": [
    "Trẻ con < 5 tuổi có tỉ lệ sống cao. 1 ông già 80 tuổi cũng sống sót. Tầm 15-25 tuổi chết rất nhiều. Phần lớn hành khách có độ tuổi 25-30."
   ]
  },
  {
   "cell_type": "markdown",
   "metadata": {},
   "source": [
    "### FamilySize"
   ]
  },
  {
   "cell_type": "code",
   "execution_count": 34,
   "metadata": {},
   "outputs": [
    {
     "data": {
      "text/html": [
       "<style  type=\"text/css\" >\n",
       "    #T_91a7dc56_e3cb_11e7_9190_f44d30eb6194row0_col0 {\n",
       "            background-color:  #52a866;\n",
       "        }    #T_91a7dc56_e3cb_11e7_9190_f44d30eb6194row0_col1 {\n",
       "            background-color:  #85c266;\n",
       "        }    #T_91a7dc56_e3cb_11e7_9190_f44d30eb6194row0_col2 {\n",
       "            background-color:  #66b266;\n",
       "        }    #T_91a7dc56_e3cb_11e7_9190_f44d30eb6194row1_col0 {\n",
       "            background-color:  #e0f066;\n",
       "        }    #T_91a7dc56_e3cb_11e7_9190_f44d30eb6194row1_col1 {\n",
       "            background-color:  #bdde66;\n",
       "        }    #T_91a7dc56_e3cb_11e7_9190_f44d30eb6194row1_col2 {\n",
       "            background-color:  #d3e966;\n",
       "        }    #T_91a7dc56_e3cb_11e7_9190_f44d30eb6194row2_col0 {\n",
       "            background-color:  #eef666;\n",
       "        }    #T_91a7dc56_e3cb_11e7_9190_f44d30eb6194row2_col1 {\n",
       "            background-color:  #d3e966;\n",
       "        }    #T_91a7dc56_e3cb_11e7_9190_f44d30eb6194row2_col2 {\n",
       "            background-color:  #e4f266;\n",
       "        }    #T_91a7dc56_e3cb_11e7_9190_f44d30eb6194row3_col0 {\n",
       "            background-color:  #ffff66;\n",
       "        }    #T_91a7dc56_e3cb_11e7_9190_f44d30eb6194row3_col1 {\n",
       "            background-color:  #f0f866;\n",
       "        }    #T_91a7dc56_e3cb_11e7_9190_f44d30eb6194row3_col2 {\n",
       "            background-color:  #f9fc66;\n",
       "        }    #T_91a7dc56_e3cb_11e7_9190_f44d30eb6194row4_col0 {\n",
       "            background-color:  #fdfe66;\n",
       "        }    #T_91a7dc56_e3cb_11e7_9190_f44d30eb6194row4_col1 {\n",
       "            background-color:  #fdfe66;\n",
       "        }    #T_91a7dc56_e3cb_11e7_9190_f44d30eb6194row4_col2 {\n",
       "            background-color:  #fdfe66;\n",
       "        }    #T_91a7dc56_e3cb_11e7_9190_f44d30eb6194row5_col0 {\n",
       "            background-color:  #f9fc66;\n",
       "        }    #T_91a7dc56_e3cb_11e7_9190_f44d30eb6194row5_col1 {\n",
       "            background-color:  #fdfe66;\n",
       "        }    #T_91a7dc56_e3cb_11e7_9190_f44d30eb6194row5_col2 {\n",
       "            background-color:  #fbfd66;\n",
       "        }    #T_91a7dc56_e3cb_11e7_9190_f44d30eb6194row6_col0 {\n",
       "            background-color:  #ffff66;\n",
       "        }    #T_91a7dc56_e3cb_11e7_9190_f44d30eb6194row6_col1 {\n",
       "            background-color:  #fdfe66;\n",
       "        }    #T_91a7dc56_e3cb_11e7_9190_f44d30eb6194row6_col2 {\n",
       "            background-color:  #fefe66;\n",
       "        }    #T_91a7dc56_e3cb_11e7_9190_f44d30eb6194row7_col0 {\n",
       "            background-color:  #ffff66;\n",
       "        }    #T_91a7dc56_e3cb_11e7_9190_f44d30eb6194row7_col1 {\n",
       "            background-color:  #ffff66;\n",
       "        }    #T_91a7dc56_e3cb_11e7_9190_f44d30eb6194row7_col2 {\n",
       "            background-color:  #ffff66;\n",
       "        }    #T_91a7dc56_e3cb_11e7_9190_f44d30eb6194row8_col0 {\n",
       "            background-color:  #ffff66;\n",
       "        }    #T_91a7dc56_e3cb_11e7_9190_f44d30eb6194row8_col1 {\n",
       "            background-color:  #ffff66;\n",
       "        }    #T_91a7dc56_e3cb_11e7_9190_f44d30eb6194row8_col2 {\n",
       "            background-color:  #ffff66;\n",
       "        }    #T_91a7dc56_e3cb_11e7_9190_f44d30eb6194row9_col0 {\n",
       "            background-color:  #008066;\n",
       "        }    #T_91a7dc56_e3cb_11e7_9190_f44d30eb6194row9_col1 {\n",
       "            background-color:  #008066;\n",
       "        }    #T_91a7dc56_e3cb_11e7_9190_f44d30eb6194row9_col2 {\n",
       "            background-color:  #008066;\n",
       "        }</style>  \n",
       "<table id=\"T_91a7dc56_e3cb_11e7_9190_f44d30eb6194\" > \n",
       "<thead>    <tr> \n",
       "        <th class=\"index_name level0\" >Survived</th> \n",
       "        <th class=\"col_heading level0 col0\" >0</th> \n",
       "        <th class=\"col_heading level0 col1\" >1</th> \n",
       "        <th class=\"col_heading level0 col2\" >All</th> \n",
       "    </tr>    <tr> \n",
       "        <th class=\"index_name level0\" >FamilySize</th> \n",
       "        <th class=\"blank\" ></th> \n",
       "        <th class=\"blank\" ></th> \n",
       "        <th class=\"blank\" ></th> \n",
       "    </tr></thead> \n",
       "<tbody>    <tr> \n",
       "        <th id=\"T_91a7dc56_e3cb_11e7_9190_f44d30eb6194level0_row0\" class=\"row_heading level0 row0\" >1</th> \n",
       "        <td id=\"T_91a7dc56_e3cb_11e7_9190_f44d30eb6194row0_col0\" class=\"data row0 col0\" >374</td> \n",
       "        <td id=\"T_91a7dc56_e3cb_11e7_9190_f44d30eb6194row0_col1\" class=\"data row0 col1\" >163</td> \n",
       "        <td id=\"T_91a7dc56_e3cb_11e7_9190_f44d30eb6194row0_col2\" class=\"data row0 col2\" >537</td> \n",
       "    </tr>    <tr> \n",
       "        <th id=\"T_91a7dc56_e3cb_11e7_9190_f44d30eb6194level0_row1\" class=\"row_heading level0 row1\" >2</th> \n",
       "        <td id=\"T_91a7dc56_e3cb_11e7_9190_f44d30eb6194row1_col0\" class=\"data row1 col0\" >72</td> \n",
       "        <td id=\"T_91a7dc56_e3cb_11e7_9190_f44d30eb6194row1_col1\" class=\"data row1 col1\" >89</td> \n",
       "        <td id=\"T_91a7dc56_e3cb_11e7_9190_f44d30eb6194row1_col2\" class=\"data row1 col2\" >161</td> \n",
       "    </tr>    <tr> \n",
       "        <th id=\"T_91a7dc56_e3cb_11e7_9190_f44d30eb6194level0_row2\" class=\"row_heading level0 row2\" >3</th> \n",
       "        <td id=\"T_91a7dc56_e3cb_11e7_9190_f44d30eb6194row2_col0\" class=\"data row2 col0\" >43</td> \n",
       "        <td id=\"T_91a7dc56_e3cb_11e7_9190_f44d30eb6194row2_col1\" class=\"data row2 col1\" >59</td> \n",
       "        <td id=\"T_91a7dc56_e3cb_11e7_9190_f44d30eb6194row2_col2\" class=\"data row2 col2\" >102</td> \n",
       "    </tr>    <tr> \n",
       "        <th id=\"T_91a7dc56_e3cb_11e7_9190_f44d30eb6194level0_row3\" class=\"row_heading level0 row3\" >4</th> \n",
       "        <td id=\"T_91a7dc56_e3cb_11e7_9190_f44d30eb6194row3_col0\" class=\"data row3 col0\" >8</td> \n",
       "        <td id=\"T_91a7dc56_e3cb_11e7_9190_f44d30eb6194row3_col1\" class=\"data row3 col1\" >21</td> \n",
       "        <td id=\"T_91a7dc56_e3cb_11e7_9190_f44d30eb6194row3_col2\" class=\"data row3 col2\" >29</td> \n",
       "    </tr>    <tr> \n",
       "        <th id=\"T_91a7dc56_e3cb_11e7_9190_f44d30eb6194level0_row4\" class=\"row_heading level0 row4\" >5</th> \n",
       "        <td id=\"T_91a7dc56_e3cb_11e7_9190_f44d30eb6194row4_col0\" class=\"data row4 col0\" >12</td> \n",
       "        <td id=\"T_91a7dc56_e3cb_11e7_9190_f44d30eb6194row4_col1\" class=\"data row4 col1\" >3</td> \n",
       "        <td id=\"T_91a7dc56_e3cb_11e7_9190_f44d30eb6194row4_col2\" class=\"data row4 col2\" >15</td> \n",
       "    </tr>    <tr> \n",
       "        <th id=\"T_91a7dc56_e3cb_11e7_9190_f44d30eb6194level0_row5\" class=\"row_heading level0 row5\" >6</th> \n",
       "        <td id=\"T_91a7dc56_e3cb_11e7_9190_f44d30eb6194row5_col0\" class=\"data row5 col0\" >19</td> \n",
       "        <td id=\"T_91a7dc56_e3cb_11e7_9190_f44d30eb6194row5_col1\" class=\"data row5 col1\" >3</td> \n",
       "        <td id=\"T_91a7dc56_e3cb_11e7_9190_f44d30eb6194row5_col2\" class=\"data row5 col2\" >22</td> \n",
       "    </tr>    <tr> \n",
       "        <th id=\"T_91a7dc56_e3cb_11e7_9190_f44d30eb6194level0_row6\" class=\"row_heading level0 row6\" >7</th> \n",
       "        <td id=\"T_91a7dc56_e3cb_11e7_9190_f44d30eb6194row6_col0\" class=\"data row6 col0\" >8</td> \n",
       "        <td id=\"T_91a7dc56_e3cb_11e7_9190_f44d30eb6194row6_col1\" class=\"data row6 col1\" >4</td> \n",
       "        <td id=\"T_91a7dc56_e3cb_11e7_9190_f44d30eb6194row6_col2\" class=\"data row6 col2\" >12</td> \n",
       "    </tr>    <tr> \n",
       "        <th id=\"T_91a7dc56_e3cb_11e7_9190_f44d30eb6194level0_row7\" class=\"row_heading level0 row7\" >8</th> \n",
       "        <td id=\"T_91a7dc56_e3cb_11e7_9190_f44d30eb6194row7_col0\" class=\"data row7 col0\" >6</td> \n",
       "        <td id=\"T_91a7dc56_e3cb_11e7_9190_f44d30eb6194row7_col1\" class=\"data row7 col1\" >0</td> \n",
       "        <td id=\"T_91a7dc56_e3cb_11e7_9190_f44d30eb6194row7_col2\" class=\"data row7 col2\" >6</td> \n",
       "    </tr>    <tr> \n",
       "        <th id=\"T_91a7dc56_e3cb_11e7_9190_f44d30eb6194level0_row8\" class=\"row_heading level0 row8\" >11</th> \n",
       "        <td id=\"T_91a7dc56_e3cb_11e7_9190_f44d30eb6194row8_col0\" class=\"data row8 col0\" >7</td> \n",
       "        <td id=\"T_91a7dc56_e3cb_11e7_9190_f44d30eb6194row8_col1\" class=\"data row8 col1\" >0</td> \n",
       "        <td id=\"T_91a7dc56_e3cb_11e7_9190_f44d30eb6194row8_col2\" class=\"data row8 col2\" >7</td> \n",
       "    </tr>    <tr> \n",
       "        <th id=\"T_91a7dc56_e3cb_11e7_9190_f44d30eb6194level0_row9\" class=\"row_heading level0 row9\" >All</th> \n",
       "        <td id=\"T_91a7dc56_e3cb_11e7_9190_f44d30eb6194row9_col0\" class=\"data row9 col0\" >549</td> \n",
       "        <td id=\"T_91a7dc56_e3cb_11e7_9190_f44d30eb6194row9_col1\" class=\"data row9 col1\" >342</td> \n",
       "        <td id=\"T_91a7dc56_e3cb_11e7_9190_f44d30eb6194row9_col2\" class=\"data row9 col2\" >891</td> \n",
       "    </tr></tbody> \n",
       "</table> "
      ],
      "text/plain": [
       "<pandas.io.formats.style.Styler at 0x7f3f99eb0358>"
      ]
     },
     "execution_count": 34,
     "metadata": {},
     "output_type": "execute_result"
    }
   ],
   "source": [
    "pd.crosstab(data['FamilySize'], data['Survived'], margins=True).style.background_gradient(cmap='summer_r')"
   ]
  },
  {
   "cell_type": "markdown",
   "metadata": {},
   "source": [
    "7 người có `FamilySize = 11`, 6 người có `FamilySize = 8` => có tình trạng A khai B là người nhà nhưng B không khai A."
   ]
  },
  {
   "cell_type": "code",
   "execution_count": 28,
   "metadata": {},
   "outputs": [
    {
     "data": {
      "image/png": "[encoded data removed]",
      "text/plain": [
       "<matplotlib.figure.Figure at 0x7f3f9a220f98>"
      ]
     },
     "metadata": {},
     "output_type": "display_data"
    }
   ],
   "source": [
    "sns.factorplot('FamilySize','Survived',data=data)\n",
    "plt.show()"
   ]
  },
  {
   "cell_type": "markdown",
   "metadata": {},
   "source": [
    "Đi 1 mình có tỉ lệ sống sót thấp, chắc không đánh lại các gia đình để giành thuyền/phao. Đi đông quá (> 4) cũng chết, theo đúng dự đoán ban đầu. Có điểm đáng chú ý là những gia đình lớn 8, 11 người hoàn toàn không ai sống sót. Lý do chắc là `Pclass`"
   ]
  },
  {
   "cell_type": "code",
   "execution_count": 35,
   "metadata": {},
   "outputs": [
    {
     "data": {
      "text/html": [
       "<style  type=\"text/css\" >\n",
       "    #T_c3cbbefa_e3cb_11e7_9190_f44d30eb6194row0_col0 {\n",
       "            background-color:  #7ebe66;\n",
       "        }    #T_c3cbbefa_e3cb_11e7_9190_f44d30eb6194row0_col1 {\n",
       "            background-color:  #6fb766;\n",
       "        }    #T_c3cbbefa_e3cb_11e7_9190_f44d30eb6194row0_col2 {\n",
       "            background-color:  #58ac66;\n",
       "        }    #T_c3cbbefa_e3cb_11e7_9190_f44d30eb6194row0_col3 {\n",
       "            background-color:  #66b266;\n",
       "        }    #T_c3cbbefa_e3cb_11e7_9190_f44d30eb6194row1_col0 {\n",
       "            background-color:  #add666;\n",
       "        }    #T_c3cbbefa_e3cb_11e7_9190_f44d30eb6194row1_col1 {\n",
       "            background-color:  #d0e866;\n",
       "        }    #T_c3cbbefa_e3cb_11e7_9190_f44d30eb6194row1_col2 {\n",
       "            background-color:  #e5f266;\n",
       "        }    #T_c3cbbefa_e3cb_11e7_9190_f44d30eb6194row1_col3 {\n",
       "            background-color:  #d3e966;\n",
       "        }    #T_c3cbbefa_e3cb_11e7_9190_f44d30eb6194row2_col0 {\n",
       "            background-color:  #e3f166;\n",
       "        }    #T_c3cbbefa_e3cb_11e7_9190_f44d30eb6194row2_col1 {\n",
       "            background-color:  #d4ea66;\n",
       "        }    #T_c3cbbefa_e3cb_11e7_9190_f44d30eb6194row2_col2 {\n",
       "            background-color:  #eaf466;\n",
       "        }    #T_c3cbbefa_e3cb_11e7_9190_f44d30eb6194row2_col3 {\n",
       "            background-color:  #e4f266;\n",
       "        }    #T_c3cbbefa_e3cb_11e7_9190_f44d30eb6194row3_col0 {\n",
       "            background-color:  #f7fb66;\n",
       "        }    #T_c3cbbefa_e3cb_11e7_9190_f44d30eb6194row3_col1 {\n",
       "            background-color:  #edf666;\n",
       "        }    #T_c3cbbefa_e3cb_11e7_9190_f44d30eb6194row3_col2 {\n",
       "            background-color:  #fefe66;\n",
       "        }    #T_c3cbbefa_e3cb_11e7_9190_f44d30eb6194row3_col3 {\n",
       "            background-color:  #f9fc66;\n",
       "        }    #T_c3cbbefa_e3cb_11e7_9190_f44d30eb6194row4_col0 {\n",
       "            background-color:  #fdfe66;\n",
       "        }    #T_c3cbbefa_e3cb_11e7_9190_f44d30eb6194row4_col1 {\n",
       "            background-color:  #fefe66;\n",
       "        }    #T_c3cbbefa_e3cb_11e7_9190_f44d30eb6194row4_col2 {\n",
       "            background-color:  #fcfe66;\n",
       "        }    #T_c3cbbefa_e3cb_11e7_9190_f44d30eb6194row4_col3 {\n",
       "            background-color:  #fdfe66;\n",
       "        }    #T_c3cbbefa_e3cb_11e7_9190_f44d30eb6194row5_col0 {\n",
       "            background-color:  #fbfd66;\n",
       "        }    #T_c3cbbefa_e3cb_11e7_9190_f44d30eb6194row5_col1 {\n",
       "            background-color:  #fefe66;\n",
       "        }    #T_c3cbbefa_e3cb_11e7_9190_f44d30eb6194row5_col2 {\n",
       "            background-color:  #fafc66;\n",
       "        }    #T_c3cbbefa_e3cb_11e7_9190_f44d30eb6194row5_col3 {\n",
       "            background-color:  #fbfd66;\n",
       "        }    #T_c3cbbefa_e3cb_11e7_9190_f44d30eb6194row6_col0 {\n",
       "            background-color:  #ffff66;\n",
       "        }    #T_c3cbbefa_e3cb_11e7_9190_f44d30eb6194row6_col1 {\n",
       "            background-color:  #ffff66;\n",
       "        }    #T_c3cbbefa_e3cb_11e7_9190_f44d30eb6194row6_col2 {\n",
       "            background-color:  #fcfe66;\n",
       "        }    #T_c3cbbefa_e3cb_11e7_9190_f44d30eb6194row6_col3 {\n",
       "            background-color:  #fefe66;\n",
       "        }    #T_c3cbbefa_e3cb_11e7_9190_f44d30eb6194row7_col0 {\n",
       "            background-color:  #ffff66;\n",
       "        }    #T_c3cbbefa_e3cb_11e7_9190_f44d30eb6194row7_col1 {\n",
       "            background-color:  #ffff66;\n",
       "        }    #T_c3cbbefa_e3cb_11e7_9190_f44d30eb6194row7_col2 {\n",
       "            background-color:  #ffff66;\n",
       "        }    #T_c3cbbefa_e3cb_11e7_9190_f44d30eb6194row7_col3 {\n",
       "            background-color:  #ffff66;\n",
       "        }    #T_c3cbbefa_e3cb_11e7_9190_f44d30eb6194row8_col0 {\n",
       "            background-color:  #ffff66;\n",
       "        }    #T_c3cbbefa_e3cb_11e7_9190_f44d30eb6194row8_col1 {\n",
       "            background-color:  #ffff66;\n",
       "        }    #T_c3cbbefa_e3cb_11e7_9190_f44d30eb6194row8_col2 {\n",
       "            background-color:  #ffff66;\n",
       "        }    #T_c3cbbefa_e3cb_11e7_9190_f44d30eb6194row8_col3 {\n",
       "            background-color:  #ffff66;\n",
       "        }    #T_c3cbbefa_e3cb_11e7_9190_f44d30eb6194row9_col0 {\n",
       "            background-color:  #008066;\n",
       "        }    #T_c3cbbefa_e3cb_11e7_9190_f44d30eb6194row9_col1 {\n",
       "            background-color:  #008066;\n",
       "        }    #T_c3cbbefa_e3cb_11e7_9190_f44d30eb6194row9_col2 {\n",
       "            background-color:  #008066;\n",
       "        }    #T_c3cbbefa_e3cb_11e7_9190_f44d30eb6194row9_col3 {\n",
       "            background-color:  #008066;\n",
       "        }</style>  \n",
       "<table id=\"T_c3cbbefa_e3cb_11e7_9190_f44d30eb6194\" > \n",
       "<thead>    <tr> \n",
       "        <th class=\"index_name level0\" >Pclass</th> \n",
       "        <th class=\"col_heading level0 col0\" >1</th> \n",
       "        <th class=\"col_heading level0 col1\" >2</th> \n",
       "        <th class=\"col_heading level0 col2\" >3</th> \n",
       "        <th class=\"col_heading level0 col3\" >All</th> \n",
       "    </tr>    <tr> \n",
       "        <th class=\"index_name level0\" >FamilySize</th> \n",
       "        <th class=\"blank\" ></th> \n",
       "        <th class=\"blank\" ></th> \n",
       "        <th class=\"blank\" ></th> \n",
       "        <th class=\"blank\" ></th> \n",
       "    </tr></thead> \n",
       "<tbody>    <tr> \n",
       "        <th id=\"T_c3cbbefa_e3cb_11e7_9190_f44d30eb6194level0_row0\" class=\"row_heading level0 row0\" >1</th> \n",
       "        <td id=\"T_c3cbbefa_e3cb_11e7_9190_f44d30eb6194row0_col0\" class=\"data row0 col0\" >109</td> \n",
       "        <td id=\"T_c3cbbefa_e3cb_11e7_9190_f44d30eb6194row0_col1\" class=\"data row0 col1\" >104</td> \n",
       "        <td id=\"T_c3cbbefa_e3cb_11e7_9190_f44d30eb6194row0_col2\" class=\"data row0 col2\" >324</td> \n",
       "        <td id=\"T_c3cbbefa_e3cb_11e7_9190_f44d30eb6194row0_col3\" class=\"data row0 col3\" >537</td> \n",
       "    </tr>    <tr> \n",
       "        <th id=\"T_c3cbbefa_e3cb_11e7_9190_f44d30eb6194level0_row1\" class=\"row_heading level0 row1\" >2</th> \n",
       "        <td id=\"T_c3cbbefa_e3cb_11e7_9190_f44d30eb6194row1_col0\" class=\"data row1 col0\" >70</td> \n",
       "        <td id=\"T_c3cbbefa_e3cb_11e7_9190_f44d30eb6194row1_col1\" class=\"data row1 col1\" >34</td> \n",
       "        <td id=\"T_c3cbbefa_e3cb_11e7_9190_f44d30eb6194row1_col2\" class=\"data row1 col2\" >57</td> \n",
       "        <td id=\"T_c3cbbefa_e3cb_11e7_9190_f44d30eb6194row1_col3\" class=\"data row1 col3\" >161</td> \n",
       "    </tr>    <tr> \n",
       "        <th id=\"T_c3cbbefa_e3cb_11e7_9190_f44d30eb6194level0_row2\" class=\"row_heading level0 row2\" >3</th> \n",
       "        <td id=\"T_c3cbbefa_e3cb_11e7_9190_f44d30eb6194row2_col0\" class=\"data row2 col0\" >24</td> \n",
       "        <td id=\"T_c3cbbefa_e3cb_11e7_9190_f44d30eb6194row2_col1\" class=\"data row2 col1\" >31</td> \n",
       "        <td id=\"T_c3cbbefa_e3cb_11e7_9190_f44d30eb6194row2_col2\" class=\"data row2 col2\" >47</td> \n",
       "        <td id=\"T_c3cbbefa_e3cb_11e7_9190_f44d30eb6194row2_col3\" class=\"data row2 col3\" >102</td> \n",
       "    </tr>    <tr> \n",
       "        <th id=\"T_c3cbbefa_e3cb_11e7_9190_f44d30eb6194level0_row3\" class=\"row_heading level0 row3\" >4</th> \n",
       "        <td id=\"T_c3cbbefa_e3cb_11e7_9190_f44d30eb6194row3_col0\" class=\"data row3 col0\" >7</td> \n",
       "        <td id=\"T_c3cbbefa_e3cb_11e7_9190_f44d30eb6194row3_col1\" class=\"data row3 col1\" >13</td> \n",
       "        <td id=\"T_c3cbbefa_e3cb_11e7_9190_f44d30eb6194row3_col2\" class=\"data row3 col2\" >9</td> \n",
       "        <td id=\"T_c3cbbefa_e3cb_11e7_9190_f44d30eb6194row3_col3\" class=\"data row3 col3\" >29</td> \n",
       "    </tr>    <tr> \n",
       "        <th id=\"T_c3cbbefa_e3cb_11e7_9190_f44d30eb6194level0_row4\" class=\"row_heading level0 row4\" >5</th> \n",
       "        <td id=\"T_c3cbbefa_e3cb_11e7_9190_f44d30eb6194row4_col0\" class=\"data row4 col0\" >2</td> \n",
       "        <td id=\"T_c3cbbefa_e3cb_11e7_9190_f44d30eb6194row4_col1\" class=\"data row4 col1\" >1</td> \n",
       "        <td id=\"T_c3cbbefa_e3cb_11e7_9190_f44d30eb6194row4_col2\" class=\"data row4 col2\" >12</td> \n",
       "        <td id=\"T_c3cbbefa_e3cb_11e7_9190_f44d30eb6194row4_col3\" class=\"data row4 col3\" >15</td> \n",
       "    </tr>    <tr> \n",
       "        <th id=\"T_c3cbbefa_e3cb_11e7_9190_f44d30eb6194level0_row5\" class=\"row_heading level0 row5\" >6</th> \n",
       "        <td id=\"T_c3cbbefa_e3cb_11e7_9190_f44d30eb6194row5_col0\" class=\"data row5 col0\" >4</td> \n",
       "        <td id=\"T_c3cbbefa_e3cb_11e7_9190_f44d30eb6194row5_col1\" class=\"data row5 col1\" >1</td> \n",
       "        <td id=\"T_c3cbbefa_e3cb_11e7_9190_f44d30eb6194row5_col2\" class=\"data row5 col2\" >17</td> \n",
       "        <td id=\"T_c3cbbefa_e3cb_11e7_9190_f44d30eb6194row5_col3\" class=\"data row5 col3\" >22</td> \n",
       "    </tr>    <tr> \n",
       "        <th id=\"T_c3cbbefa_e3cb_11e7_9190_f44d30eb6194level0_row6\" class=\"row_heading level0 row6\" >7</th> \n",
       "        <td id=\"T_c3cbbefa_e3cb_11e7_9190_f44d30eb6194row6_col0\" class=\"data row6 col0\" >0</td> \n",
       "        <td id=\"T_c3cbbefa_e3cb_11e7_9190_f44d30eb6194row6_col1\" class=\"data row6 col1\" >0</td> \n",
       "        <td id=\"T_c3cbbefa_e3cb_11e7_9190_f44d30eb6194row6_col2\" class=\"data row6 col2\" >12</td> \n",
       "        <td id=\"T_c3cbbefa_e3cb_11e7_9190_f44d30eb6194row6_col3\" class=\"data row6 col3\" >12</td> \n",
       "    </tr>    <tr> \n",
       "        <th id=\"T_c3cbbefa_e3cb_11e7_9190_f44d30eb6194level0_row7\" class=\"row_heading level0 row7\" >8</th> \n",
       "        <td id=\"T_c3cbbefa_e3cb_11e7_9190_f44d30eb6194row7_col0\" class=\"data row7 col0\" >0</td> \n",
       "        <td id=\"T_c3cbbefa_e3cb_11e7_9190_f44d30eb6194row7_col1\" class=\"data row7 col1\" >0</td> \n",
       "        <td id=\"T_c3cbbefa_e3cb_11e7_9190_f44d30eb6194row7_col2\" class=\"data row7 col2\" >6</td> \n",
       "        <td id=\"T_c3cbbefa_e3cb_11e7_9190_f44d30eb6194row7_col3\" class=\"data row7 col3\" >6</td> \n",
       "    </tr>    <tr> \n",
       "        <th id=\"T_c3cbbefa_e3cb_11e7_9190_f44d30eb6194level0_row8\" class=\"row_heading level0 row8\" >11</th> \n",
       "        <td id=\"T_c3cbbefa_e3cb_11e7_9190_f44d30eb6194row8_col0\" class=\"data row8 col0\" >0</td> \n",
       "        <td id=\"T_c3cbbefa_e3cb_11e7_9190_f44d30eb6194row8_col1\" class=\"data row8 col1\" >0</td> \n",
       "        <td id=\"T_c3cbbefa_e3cb_11e7_9190_f44d30eb6194row8_col2\" class=\"data row8 col2\" >7</td> \n",
       "        <td id=\"T_c3cbbefa_e3cb_11e7_9190_f44d30eb6194row8_col3\" class=\"data row8 col3\" >7</td> \n",
       "    </tr>    <tr> \n",
       "        <th id=\"T_c3cbbefa_e3cb_11e7_9190_f44d30eb6194level0_row9\" class=\"row_heading level0 row9\" >All</th> \n",
       "        <td id=\"T_c3cbbefa_e3cb_11e7_9190_f44d30eb6194row9_col0\" class=\"data row9 col0\" >216</td> \n",
       "        <td id=\"T_c3cbbefa_e3cb_11e7_9190_f44d30eb6194row9_col1\" class=\"data row9 col1\" >184</td> \n",
       "        <td id=\"T_c3cbbefa_e3cb_11e7_9190_f44d30eb6194row9_col2\" class=\"data row9 col2\" >491</td> \n",
       "        <td id=\"T_c3cbbefa_e3cb_11e7_9190_f44d30eb6194row9_col3\" class=\"data row9 col3\" >891</td> \n",
       "    </tr></tbody> \n",
       "</table> "
      ],
      "text/plain": [
       "<pandas.io.formats.style.Styler at 0x7f3f9a0797b8>"
      ]
     },
     "execution_count": 35,
     "metadata": {},
     "output_type": "execute_result"
    }
   ],
   "source": [
    "pd.crosstab(data['FamilySize'], data['Pclass'], margins=True).style.background_gradient(cmap='summer_r')"
   ]
  },
  {
   "cell_type": "markdown",
   "metadata": {},
   "source": [
    "Đúng là `Pclass`. Các gia đình lớn đều thuộc `Pclass = 3`."
   ]
  },
  {
   "cell_type": "markdown",
   "metadata": {},
   "source": [
    "### Fare"
   ]
  },
  {
   "cell_type": "code",
   "execution_count": 53,
   "metadata": {},
   "outputs": [
    {
     "data": {
      "image/png": "[encoded data removed]",
      "text/plain": [
       "<matplotlib.figure.Figure at 0x7f3f99859e10>"
      ]
     },
     "metadata": {},
     "output_type": "display_data"
    }
   ],
   "source": [
    "sns.regplot(x='Fare', y='Survived', data=data, x_bins=10)\n",
    "plt.show()"
   ]
  },
  {
   "cell_type": "markdown",
   "metadata": {},
   "source": [
    "Vé càng đắt thì tỉ lệ sống càng cao. Lý do lại là `Pclass`, vì mấy ông nhà giàu mới mua đc vé đắt."
   ]
  },
  {
   "cell_type": "code",
   "execution_count": 65,
   "metadata": {},
   "outputs": [
    {
     "data": {
      "image/png": "[encoded data removed]",
      "text/plain": [
       "<matplotlib.figure.Figure at 0x7f3f99d13a20>"
      ]
     },
     "metadata": {},
     "output_type": "display_data"
    }
   ],
   "source": [
    "f, ax = plt.subplots(1, 3, figsize=(20, 8))\n",
    "sns.distplot(data[data['Pclass'] == '1']['Fare'], ax=ax[0])\n",
    "ax[0].set_title('Fares in Pclass 1')\n",
    "sns.distplot(data[data['Pclass'] == '2']['Fare'], ax=ax[1])\n",
    "ax[1].set_title('Fares in Pclass 2')\n",
    "sns.distplot(data[data['Pclass'] == '3']['Fare'], ax=ax[2])\n",
    "ax[2].set_title('Fares in Pclass 3')\n",
    "plt.show()"
   ]
  },
  {
   "cell_type": "markdown",
   "metadata": {},
   "source": [
    "Trong nhóm `Pclass = 1` giá vé khá dao động, nhưng tập trung ở khoảng \\$20-\\$60. Nhóm `Pclass = 2` thì tập trung ở \\$8-\\$12 và \\$24-\\$28. Nhóm `Pclass = 3` hầu như chỉ mua vé dưới $10."
   ]
  },
  {
   "cell_type": "markdown",
   "metadata": {},
   "source": [
    "### Embarked"
   ]
  },
  {
   "cell_type": "code",
   "execution_count": 88,
   "metadata": {},
   "outputs": [
    {
     "data": {
      "image/png": "[encoded data removed]",
      "text/plain": [
       "<matplotlib.figure.Figure at 0x7f3f9985fa58>"
      ]
     },
     "metadata": {},
     "output_type": "display_data"
    }
   ],
   "source": [
    "sns.factorplot('Embarked', 'Survived', data=data)\n",
    "plt.show()"
   ]
  },
  {
   "cell_type": "markdown",
   "metadata": {},
   "source": [
    "Xuất phát từ cảng `C` có vẻ may mắn hơn cảng `S`."
   ]
  },
  {
   "cell_type": "markdown",
   "metadata": {},
   "source": [
    "### Exercise"
   ]
  },
  {
   "cell_type": "code",
   "execution_count": null,
   "metadata": {},
   "outputs": [],
   "source": [
    "Thử so sánh `Embarked` với các cột khác xem có thể biết được nguyên nhân "
   ]
  },
  {
   "cell_type": "code",
   "execution_count": 92,
   "metadata": {},
   "outputs": [],
   "source": [
    "# Code vào đây"
   ]
  },
  {
   "cell_type": "code",
   "execution_count": null,
   "metadata": {},
   "outputs": [],
   "source": [
    "%load solutions/visualize.py"
   ]
  },
  {
   "cell_type": "markdown",
   "metadata": {},
   "source": [
    "%load solutions/visualize_description.txt"
   ]
  },
  {
   "cell_type": "code",
   "execution_count": null,
   "metadata": {},
   "outputs": [],
   "source": []
  }
 ],
 "metadata": {
  "kernelspec": {
   "display_name": "Python 3",
   "language": "python",
   "name": "python3"
  },
  "language_info": {
   "codemirror_mode": {
    "name": "ipython",
    "version": 3
   },
   "file_extension": ".py",
   "mimetype": "text/x-python",
   "name": "python",
   "nbconvert_exporter": "python",
   "pygments_lexer": "ipython3",
   "version": "3.6.3"
  }
 },
 "nbformat": 4,
 "nbformat_minor": 2
}
