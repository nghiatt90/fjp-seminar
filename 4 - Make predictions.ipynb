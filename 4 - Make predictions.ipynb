{
 "cells": [
  {
   "cell_type": "markdown",
   "metadata": {},
   "source": [
    "# Tạo model dự đoán"
   ]
  },
  {
   "cell_type": "code",
   "execution_count": null,
   "metadata": {},
   "outputs": [],
   "source": [
    "import pandas as pd\n",
    "\n",
    "from loaddata import data_engineered as data"
   ]
  },
  {
   "cell_type": "code",
   "execution_count": null,
   "metadata": {},
   "outputs": [],
   "source": [
    "data.head(5)"
   ]
  },
  {
   "cell_type": "markdown",
   "metadata": {},
   "source": [
    "Chúng ta đã chứng minh được là những feature có hiện có có quan hệ với việc sống/chết của 1 cá nhân trên tàu Titanic. Công đoạn cuối cùng là code và train 1 Machine Learning model để dự đoán 1 người sẽ sống hay chết nếu ở trên tàu Titanic."
   ]
  },
  {
   "cell_type": "markdown",
   "metadata": {},
   "source": [
    "## Ngoài lề: Machine Learning (ML)"
   ]
  },
  {
   "cell_type": "markdown",
   "metadata": {},
   "source": [
    "Định nghĩa: là ngành khoa học cho phép máy tính \"học\" trực tiếp từ dữ liệu thay vì được lập trình cụ thể ([Wikipedia](https://en.wikipedia.org/wiki/Machine_learning))\n",
    "\n",
    "Tức là thay vì\n",
    "```python\n",
    "survival_prob = 0.5\n",
    "if data['Sex'] == 'male':\n",
    "    survival_prob -= 0.1  # Mấy con số này con người phải tìm, có khi cả đời không ra\n",
    "if data['Pclass'] == 1:\n",
    "    survival_prob += 0.25\n",
    "...\n",
    "prediction = 'Survive' if survival_prob > 0.5 else 'Die'\n",
    "```\n",
    "chỉ cần:\n",
    "```python\n",
    "labels = data['Survived']\n",
    "features = data.drop(columns=['Survived'])\n",
    "model = MachineLearningModel(some_hyper_parameters)\n",
    "model.learn(features, labels)\n",
    "predictions = model.predict(new_data)\n",
    "# Con người không cần tìm ra cái gì cả, máy tự tìm\n",
    "```"
   ]
  },
  {
   "cell_type": "markdown",
   "metadata": {},
   "source": [
    "Có 3 nhánh chính trong ML:\n",
    "- Supervised learning: học với data có label, mục đích là sau khi học thì, model nhận được input mới dự đoán được output tương ứng\n",
    "- Unsupervised learning: học với data không có label, mục đích là nhóm các dữ liệu tương tự vào cùng nhóm\n",
    "- Reinforcement learning: máy thực hiện hành động và nhận được điểm số cho hành động đó, từ đó tìm cách giải quyết bài toán với điểm số tối đa\n",
    "\n",
    "Hiện tại dạng thường gặp nhất là supervised learning. Bài Titanic đang làm cũng thuộc dạng này."
   ]
  },
  {
   "cell_type": "markdown",
   "metadata": {},
   "source": [
    "Core của supervised learning là toán học. Data được biểu diễn dưới dạng số học, và model là 1 tập hợp các công thức toán học để biến đổi từ input -> output và từ sai số của output so với dữ liệu thực (labels) để điều chỉnh lại các trọng số được sử dụng trong các công thức trong model."
   ]
  },
  {
   "cell_type": "markdown",
   "metadata": {},
   "source": [
    "Ví dụ: bộ data có thể biểu diễn trên 1 đồ thị với `x` là feature và `y` là label. "
   ]
  },
  {
   "cell_type": "markdown",
   "metadata": {},
   "source": [
    "![data](imgs/data.png)"
   ]
  },
  {
   "cell_type": "markdown",
   "metadata": {},
   "source": [
    "ML sẽ tìm 1 hàm số `f` để map feature `x` với label `y`, với sai số nhỏ nhất có thể"
   ]
  },
  {
   "cell_type": "markdown",
   "metadata": {},
   "source": [
    "![learning](imgs/learning.png)"
   ]
  },
  {
   "cell_type": "markdown",
   "metadata": {},
   "source": [
    "Khi mới khởi tạo, model có thể sẽ đoán ra hàm số như đường màu <font color='red'>đỏ</font>. Trong quá trình training, model có thể sẽ tìm ra hàm số màu <font color='blue'>xanh biển</font> rồi tìm đến giá trị tối ưu màu <font color='green'>xanh lá</font>."
   ]
  },
  {
   "cell_type": "markdown",
   "metadata": {},
   "source": [
    "## Convert data về dạng số"
   ]
  },
  {
   "cell_type": "markdown",
   "metadata": {},
   "source": [
    "Các thư viện ML phổ biến hiện nay đã giúp đẩy phần toán xuống phía dưới và đưa ra những method để training 1 ML model trở nên rất đơn giản cho bất kỳ lập trình viên nào. Tuy nhiên lập trình viên/data scientist vẫn có nhiệm vụ là đưa data về dạng tính toán được."
   ]
  },
  {
   "cell_type": "markdown",
   "metadata": {},
   "source": [
    "Xem lại dạng data chúng ta đang có:"
   ]
  },
  {
   "cell_type": "code",
   "execution_count": null,
   "metadata": {},
   "outputs": [],
   "source": [
    "data.info()"
   ]
  },
  {
   "cell_type": "markdown",
   "metadata": {},
   "source": [
    "Có 4 feature đang ở dạng `category`, có thể convert thành số rất đơn giản:"
   ]
  },
  {
   "cell_type": "code",
   "execution_count": null,
   "metadata": {},
   "outputs": [],
   "source": [
    "# Cách 1\n",
    "pd.get_dummies(data)  # data chưa thay đổi do chưa gán ngược lại"
   ]
  },
  {
   "cell_type": "code",
   "execution_count": null,
   "metadata": {},
   "outputs": [],
   "source": [
    "# Cách 2\n",
    "category_columns = data.select_dtypes(['category']).columns\n",
    "data[category_columns].apply(lambda x: x.cat.codes)  # Data cũng chưa thay đổi"
   ]
  },
  {
   "cell_type": "markdown",
   "metadata": {},
   "source": [
    "Cách 1 thay 1 cột chứa `k` categories bằng `k` cột tương ứng với từng category. Cách này tốn memory hơn do cần lưu thêm hàng loạt số `0`. Cách 2 là thay trực tiếp categorical value bằng integer code tương ứng. Cách này ít tốn memory hơn, nhưng có điểm yếu là nó tạo ra mối quan hệ không mong muốn giữa các category, vd nếu `male = 1` và `female = 2` thì sẽ có mối quan hệ `female = 2 * male`."
   ]
  },
  {
   "cell_type": "markdown",
   "metadata": {},
   "source": [
    "### Ngoài lề: Pearson Correlation"
   ]
  },
  {
   "cell_type": "markdown",
   "metadata": {},
   "source": [
    "Có 1 điểm đáng nhắc đến là cách 2 cho phép ta vẽ được 1 biểu đồ rất hữu ích:"
   ]
  },
  {
   "cell_type": "code",
   "execution_count": null,
   "metadata": {},
   "outputs": [],
   "source": [
    "import matplotlib.pyplot as plt\n",
    "import seaborn as sns\n",
    "\n",
    "temp = data.copy(deep=True)  # Tạm chưa muốn thay đổi giá trị của data\n",
    "temp[category_columns] = temp[category_columns].apply(lambda x: x.cat.codes)\n",
    "\n",
    "sns.heatmap(temp.corr(), annot=True, cmap='RdYlGn', linewidths=0.2, annot_kws={'size':20})\n",
    "fig = plt.gcf()\n",
    "fig.set_size_inches(18, 15)\n",
    "plt.xticks(fontsize=14)\n",
    "plt.yticks(fontsize=14)\n",
    "plt.show()"
   ]
  },
  {
   "cell_type": "markdown",
   "metadata": {},
   "source": [
    "Đây là biểu đồ _Pearson Correlation_, thể hiện mối quan hệ giữa các feature.\n",
    "- Các cặp feature có hệ số tương quan gần `-1` hoặc `1` có mối quan hệ chặt chẽ với nhau. Hay nói cách khác, 1 feature chứa rất nhiều thông tin về feature kia. Có thể xem xét để bỏ bớt 1 trong 2 để tăng tốc độ tính toán.\n",
    "\n",
    "Có thể thấy ở đây là không có cặp feature nào quan hệ quá chặt chẽ với nhau, tức là chúng ta không có feature thừa."
   ]
  },
  {
   "cell_type": "markdown",
   "metadata": {},
   "source": [
    "Ở bài tập này số lượng feature khá nhỏ nên có thể chọn cách 1:"
   ]
  },
  {
   "cell_type": "code",
   "execution_count": null,
   "metadata": {},
   "outputs": [],
   "source": [
    "data = pd.get_dummies(data)\n",
    "data.info()"
   ]
  },
  {
   "cell_type": "markdown",
   "metadata": {},
   "source": [
    "### Quiz"
   ]
  },
  {
   "cell_type": "markdown",
   "metadata": {},
   "source": [
    "Tại sao không biến đổi trực tiếp từ data ban đầu thành dạng số mà lại đưa về thành `category` trước?"
   ]
  },
  {
   "cell_type": "code",
   "execution_count": null,
   "metadata": {},
   "outputs": [],
   "source": [
    "# %load solutions/quiz_answer.py\n",
    "# Trong quá trình feature engineering, data visualization nên để data dưới dạng có ý nghĩa với con người\n",
    "# Chỉ chuyển về dạng số khi kết thúc phần việc của người và chuyển sang việc của máy"
   ]
  },
  {
   "cell_type": "markdown",
   "metadata": {},
   "source": [
    "## Dựng model"
   ]
  },
  {
   "cell_type": "markdown",
   "metadata": {},
   "source": [
    "Như đã nói ở trên, sau khi đưa data về dạng phù hợp cho các thư viện ML thì việc tạo model và dự đoán trở nên vô cùng đơn giản. Ở đây ta sẽ dùng 1 loạt các thuật toán khác nhau:\n",
    "- Logistic Regression\n",
    "- Linear Support Vector Machines\n",
    "- Random Forest\n",
    "- K-Nearest Neighbours\n",
    "- Naive Bayes\n",
    "- Decision Tree\n",
    "\n",
    "__Disclaimer__: Bản thân mình chưa biết hết các thuật toán này. Tuy nhiên code quá đơn giản nên cứ cho vào để so sánh"
   ]
  },
  {
   "cell_type": "code",
   "execution_count": null,
   "metadata": {},
   "outputs": [],
   "source": [
    "# Importing all the required ML packages\n",
    "from sklearn.linear_model import LogisticRegression\n",
    "from sklearn import svm  # Support vector Machine\n",
    "from sklearn.ensemble import RandomForestClassifier\n",
    "from sklearn.neighbors import KNeighborsClassifier\n",
    "from sklearn.naive_bayes import GaussianNB # Naive Bayes\n",
    "from sklearn.tree import DecisionTreeClassifier\n",
    "\n",
    "# Some helper methods\n",
    "from sklearn import metrics\n",
    "from sklearn.model_selection import train_test_split"
   ]
  },
  {
   "cell_type": "markdown",
   "metadata": {},
   "source": [
    "Bộ dữ liệu hiện tại đang chứa cả training data (có label `Survived`) và test data (`Survived = null`). Cần phải tách riêng 2 bộ ra như ban đầu"
   ]
  },
  {
   "cell_type": "code",
   "execution_count": null,
   "metadata": {},
   "outputs": [],
   "source": [
    "data_train = data[pd.notnull(data['Survived'])]\n",
    "data_test = data[pd.isnull(data['Survived'])]\n",
    "print(data_train.index)\n",
    "print(data_test.index)"
   ]
  },
  {
   "cell_type": "markdown",
   "metadata": {},
   "source": [
    "Bộ training data lại cần chia ra làm 2 phần: 1 phần để train và 1 phần để kiểm tra độ chính xác.\n",
    "Thay vì lấy theo thứ tự, nên chọn ngẫu nhiên để đảm bảo training data không bị lệch trên 1 feature nào."
   ]
  },
  {
   "cell_type": "code",
   "execution_count": null,
   "metadata": {},
   "outputs": [],
   "source": [
    "train, test = train_test_split(data_train, test_size=0.2, random_state=201, stratify=data_train['Survived'])"
   ]
  },
  {
   "cell_type": "markdown",
   "metadata": {},
   "source": [
    "Cuối cùng là tách riêng feature và label ra, vì thư viện `sklearn` expect như vậy."
   ]
  },
  {
   "cell_type": "code",
   "execution_count": null,
   "metadata": {},
   "outputs": [],
   "source": [
    "train_X = train.drop(columns='Survived')\n",
    "train_Y = train[['Survived']].values.ravel()  # Chuyển từ vector cột thành 1d array cho sklearn khỏi kêu ca\n",
    "test_X = test.drop(columns='Survived')\n",
    "test_Y = test[['Survived']]"
   ]
  },
  {
   "cell_type": "markdown",
   "metadata": {},
   "source": [
    "Chuẩn bị 1 loạt các model sẽ dùng:"
   ]
  },
  {
   "cell_type": "code",
   "execution_count": null,
   "metadata": {},
   "outputs": [],
   "source": [
    "models = [\n",
    "    LogisticRegression(),\n",
    "    svm.SVC(kernel='linear', C=0.1, gamma=0.1),\n",
    "    RandomForestClassifier(n_estimators=100),\n",
    "    KNeighborsClassifier(),\n",
    "    GaussianNB(),\n",
    "    DecisionTreeClassifier(),\n",
    "]"
   ]
  },
  {
   "cell_type": "markdown",
   "metadata": {},
   "source": [
    "Training time!"
   ]
  },
  {
   "cell_type": "code",
   "execution_count": null,
   "metadata": {},
   "outputs": [],
   "source": [
    "results = []\n",
    "for model in models:\n",
    "    model.fit(train_X, train_Y)\n",
    "    predictions = model.predict(test_X)\n",
    "    results.append(metrics.accuracy_score(predictions, test_Y))\n",
    "\n",
    "model_names = [\n",
    "    'Logistic Regression',\n",
    "    'SVM',\n",
    "    'Random Forest',\n",
    "    'KNN',\n",
    "    'Naive Bayes',\n",
    "    'Decision Tree',\n",
    "]\n",
    "pd.DataFrame({ 'Accuracy': results }, index=model_names)"
   ]
  },
  {
   "cell_type": "markdown",
   "metadata": {},
   "source": [
    "Do data test được chia random, nên độ chính xác ở đây chỉ mang tính tương đối. Có thể chạy nhiều lần, thống kê lại và lấy trung bình để có được con số chính xác hơn."
   ]
  },
  {
   "cell_type": "markdown",
   "metadata": {},
   "source": [
    "### Exercises"
   ]
  },
  {
   "cell_type": "markdown",
   "metadata": {},
   "source": [
    "#### Ex1"
   ]
  },
  {
   "cell_type": "markdown",
   "metadata": {},
   "source": [
    "Tính độ chính xác trung bình của mỗi model. Hint: sử dụng [KFold](http://scikit-learn.org/stable/modules/generated/sklearn.model_selection.KFold.html)"
   ]
  },
  {
   "cell_type": "markdown",
   "metadata": {},
   "source": [
    "#### Ex2"
   ]
  },
  {
   "cell_type": "markdown",
   "metadata": {},
   "source": [
    "Các model ở trên nhận vào 1 số parameter. Thay đổi các parameter này sẽ ảnh hưởng đến độ chính xác của model. Hãy thử tìm các tham số tối ưu cho mỗi model. Hint: sử dụng [GridSearchCV](http://scikit-learn.org/stable/modules/generated/sklearn.model_selection.GridSearchCV.html)"
   ]
  },
  {
   "cell_type": "markdown",
   "metadata": {},
   "source": [
    "#### Ex3"
   ]
  },
  {
   "cell_type": "markdown",
   "metadata": {},
   "source": [
    "Đưa ra dự đoán cho bộ test data, save vào csv (có header) và submit kết quả lên https://www.kaggle.com/c/titanic/submit"
   ]
  }
 ],
 "metadata": {
  "kernelspec": {
   "display_name": "Python 3",
   "language": "python",
   "name": "python3"
  },
  "language_info": {
   "codemirror_mode": {
    "name": "ipython",
    "version": 3
   },
   "file_extension": ".py",
   "mimetype": "text/x-python",
   "name": "python",
   "nbconvert_exporter": "python",
   "pygments_lexer": "ipython3",
   "version": "3.6.3"
  }
 },
 "nbformat": 4,
 "nbformat_minor": 2
}
