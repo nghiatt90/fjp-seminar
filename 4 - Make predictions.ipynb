{
 "cells": [
  {
   "cell_type": "markdown",
   "metadata": {},
   "source": [
    "# Tạo model dự đoán"
   ]
  },
  {
   "cell_type": "code",
   "execution_count": null,
   "metadata": {},
   "outputs": [],
   "source": [
    "import pandas as pd\n",
    "\n",
    "from loaddata import data_engineered as data"
   ]
  },
  {
   "cell_type": "code",
   "execution_count": null,
   "metadata": {},
   "outputs": [],
   "source": [
    "data.head(5)"
   ]
  },
  {
   "cell_type": "markdown",
   "metadata": {},
   "source": [
    "Chúng ta đã chứng minh được là những feature có hiện có có quan hệ với việc sống/chết của 1 cá nhân trên tàu Titanic. Công đoạn cuối cùng là code và train 1 Machine Learning model để dự đoán 1 người sẽ sống hay chết nếu ở trên tàu Titanic."
   ]
  },
  {
   "cell_type": "markdown",
   "metadata": {},
   "source": [
    "## Ngoài lề: Machine Learning (ML)"
   ]
  },
  {
   "cell_type": "markdown",
   "metadata": {},
   "source": [
    "Định nghĩa: là ngành khoa học cho phép máy tính \"học\" trực tiếp từ dữ liệu thay vì được lập trình cụ thể ([Wikipedia](https://en.wikipedia.org/wiki/Machine_learning))\n",
    "\n",
    "Tức là thay vì\n",
    "```python\n",
    "survival_prob = 0.5\n",
    "if data['Sex'] == 'male':\n",
    "    survival_prob -= 0.1  # Mấy con số này con người phải tìm, có khi cả đời không ra\n",
    "if data['Pclass'] == 1:\n",
    "    survival_prob += 0.25\n",
    "...\n",
    "prediction = 'Survive' if survival_prob > 0.5 else 'Die'\n",
    "```\n",
    "chỉ cần:\n",
    "```python\n",
    "labels = data['Survived']\n",
    "features = data.drop(columns=['Survived'])\n",
    "model = MachineLearningModel(some_hyper_parameters)\n",
    "model.learn(features, labels)\n",
    "predictions = model.predict(new_data)\n",
    "# Con người không cần tìm ra cái gì cả, máy tự tìm\n",
    "```"
   ]
  },
  {
   "cell_type": "markdown",
   "metadata": {},
   "source": [
    "Có 3 nhánh chính trong ML:\n",
    "- Supervised learning: học với data có label, mục đích là sau khi học thì, model nhận được input mới dự đoán được output tương ứng\n",
    "- Unsupervised learning: học với data không có label, mục đích là nhóm các dữ liệu tương tự vào cùng nhóm\n",
    "- Reinforcement learning: máy thực hiện hành động và nhận được điểm số cho hành động đó, từ đó tìm cách giải quyết bài toán với điểm số tối đa\n",
    "\n",
    "Hiện tại dạng thường gặp nhất là supervised learning. Bài Titanic đang làm cũng thuộc dạng này."
   ]
  },
  {
   "cell_type": "markdown",
   "metadata": {},
   "source": [
    "Core của supervised learning là toán học. Data được biểu diễn dưới dạng số học, và model là 1 tập hợp các công thức toán học để biến đổi từ input -> output và từ sai số của output so với dữ liệu thực (labels) để điều chỉnh lại các trọng số được sử dụng trong các công thức trong model."
   ]
  },
  {
   "cell_type": "markdown",
   "metadata": {},
   "source": [
    "Ví dụ: bộ data có thể biểu diễn trên 1 đồ thị với `x` là feature và `y` là label. "
   ]
  },
  {
   "cell_type": "markdown",
   "metadata": {},
   "source": [
    "![data](imgs/data.png)"
   ]
  },
  {
   "cell_type": "markdown",
   "metadata": {},
   "source": [
    "ML sẽ tìm 1 hàm số `f` để map feature `x` với label `y`, với sai số nhỏ nhất có thể"
   ]
  },
  {
   "cell_type": "markdown",
   "metadata": {},
   "source": [
    "![learning](imgs/learning.png)"
   ]
  },
  {
   "cell_type": "markdown",
   "metadata": {},
   "source": [
    "Khi mới khởi tạo, model có thể sẽ đoán ra hàm số như đường màu <font color='red'>đỏ</font>. Trong quá trình training, model có thể sẽ tìm ra hàm số màu <font color='blue'>xanh biển</font> rồi tìm đến giá trị tối ưu màu <font color='green'>xanh lá</font>."
   ]
  },
  {
   "cell_type": "markdown",
   "metadata": {},
   "source": [
    "## Convert data về dạng số"
   ]
  },
  {
   "cell_type": "markdown",
   "metadata": {},
   "source": [
    "Các thư viện ML phổ biến hiện nay đã giúp đẩy phần toán xuống phía dưới và đưa ra những method để training 1 ML model trở nên rất đơn giản cho bất kỳ lập trình viên nào. Tuy nhiên lập trình viên/data scientist vẫn có nhiệm vụ là đưa data về dạng tính toán được."
   ]
  },
  {
   "cell_type": "markdown",
   "metadata": {},
   "source": [
    "Xem lại dạng data chúng ta đang có:"
   ]
  },
  {
   "cell_type": "code",
   "execution_count": null,
   "metadata": {},
   "outputs": [],
   "source": [
    "data.info()"
   ]
  },
  {
   "cell_type": "markdown",
   "metadata": {},
   "source": [
    "Có 4 feature đang ở dạng `category`, có thể convert thành số rất đơn giản:"
   ]
  },
  {
   "cell_type": "code",
   "execution_count": null,
   "metadata": {},
   "outputs": [],
   "source": [
    "pd.get_dummies(data)"
   ]
  },
  {
   "cell_type": "code",
   "execution_count": null,
   "metadata": {},
   "outputs": [],
   "source": [
    "category_columns = data.select_dtypes(['category']).columns\n",
    "data[category_columns] = data[category_columns].apply(lambda x: x.cat.codes)\n",
    "data.info()"
   ]
  },
  {
   "cell_type": "markdown",
   "metadata": {},
   "source": [
    "### Quiz"
   ]
  },
  {
   "cell_type": "markdown",
   "metadata": {},
   "source": [
    "Tại sao không biến đổi trực tiếp từ data ban đầu thành dạng số mà lại đưa về thành `category` trước?"
   ]
  },
  {
   "cell_type": "code",
   "execution_count": null,
   "metadata": {},
   "outputs": [],
   "source": [
    "%load solutions/quiz_answer.py"
   ]
  }
 ],
 "metadata": {
  "kernelspec": {
   "display_name": "Python 3",
   "language": "python",
   "name": "python3"
  },
  "language_info": {
   "codemirror_mode": {
    "name": "ipython",
    "version": 3
   },
   "file_extension": ".py",
   "mimetype": "text/x-python",
   "name": "python",
   "nbconvert_exporter": "python",
   "pygments_lexer": "ipython3",
   "version": "3.6.3"
  }
 },
 "nbformat": 4,
 "nbformat_minor": 2
}
