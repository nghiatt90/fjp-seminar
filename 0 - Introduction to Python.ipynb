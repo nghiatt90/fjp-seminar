{
 "cells": [
  {
   "cell_type": "markdown",
   "metadata": {
    "collapsed": true
   },
   "source": [
    "# Introduction to Python"
   ]
  },
  {
   "cell_type": "markdown",
   "metadata": {},
   "source": [
    "1 vài điểm đáng lưu ý của Python:\n",
    "- Python là 1 ngôn ngữ interpreted, tức là code không cần biên dịch cả chương trình thành ngôn ngữ máy trước khi thực hiện.\n",
    "- Số lượng thư viện hỗ trợ rất lớn. Trước khi tự làm cái gì nên thử search xem có không.\n",
    "- Python dùng _indentation_ (lùi đầu dòng để phân biệt code block), thay vì dùng curly brackets `{}` như các ngôn ngữ khác. Nếu nhất định muốn dùng brackets thay vì indentation, có thể dùng code:"
   ]
  },
  {
   "cell_type": "code",
   "execution_count": null,
   "metadata": {},
   "outputs": [],
   "source": [
    "from __future__ import braces"
   ]
  },
  {
   "cell_type": "markdown",
   "metadata": {},
   "source": [
    "- Python được design tập trung vào tính khả đọc (readability) của code"
   ]
  },
  {
   "cell_type": "code",
   "execution_count": null,
   "metadata": {},
   "outputs": [],
   "source": [
    "import this"
   ]
  },
  {
   "cell_type": "markdown",
   "metadata": {},
   "source": [
    "- Biến không cần khai báo mà sẽ tự được khởi tạo ở lệnh gán đầu tiên"
   ]
  },
  {
   "cell_type": "code",
   "execution_count": null,
   "metadata": {},
   "outputs": [],
   "source": [
    "a = 1 + 2  # Chưa khai báo a ở đâu cả\n",
    "print(a)"
   ]
  },
  {
   "cell_type": "markdown",
   "metadata": {},
   "source": [
    "- Biến có kiểu dữ liệu động, thay vì cố định như C/C++, Java, C# ..."
   ]
  },
  {
   "cell_type": "code",
   "execution_count": null,
   "metadata": {},
   "outputs": [],
   "source": [
    "a = 'abcde'  # Vẫn biến a ở trên, nhưng giờ cho nó thành string\n",
    "print(a)\n",
    "a = [1, 2, 3]  # Cho thành 1 list dữ liệu\n",
    "print(a)"
   ]
  },
  {
   "cell_type": "markdown",
   "metadata": {},
   "source": [
    "- Kiểu dữ liệu số trong Python không có giới hạn"
   ]
  },
  {
   "cell_type": "code",
   "execution_count": null,
   "metadata": {},
   "outputs": [],
   "source": [
    "a = 1 << 33\n",
    "print('Value: %d; Type: %s' % (a, type(a)))\n",
    "a = 1 << 65\n",
    "print('Value: %d; Type: %s' % (a, type(a)))\n",
    "a = 1 << 99\n",
    "print('Value: %d; Type: %s' % (a, type(a)))"
   ]
  },
  {
   "cell_type": "markdown",
   "metadata": {},
   "source": [
    "- Python có thể mở rộng được. VD các đoạn code cần speed cao thì có thể viết bằng C/C++ rồi tích hợp vào Python."
   ]
  },
  {
   "cell_type": "markdown",
   "metadata": {},
   "source": [
    "## Module"
   ]
  },
  {
   "cell_type": "markdown",
   "metadata": {},
   "source": [
    "1 file đuôi `.py` gọi là 1 module. Các file khác có thể `import` module vào để tái sử dụng code."
   ]
  },
  {
   "cell_type": "markdown",
   "metadata": {},
   "source": [
    "## Documentation"
   ]
  },
  {
   "cell_type": "code",
   "execution_count": null,
   "metadata": {},
   "outputs": [],
   "source": [
    "def my_function(x: int) -> float:\n",
    "    \"\"\"\n",
    "    Đoạn text trong cặp 3 ngoặc (đơn hoặc kép) sẽ được gọi là docstring\n",
    "    \n",
    "    :params x: Comment cho biến có nhiều kiểu viết. Như ở đây là kiểu mặc định mà IDE PyCharm hỗ trợ.\n",
    "    \"\"\"\n",
    "    return float(x)"
   ]
  },
  {
   "cell_type": "markdown",
   "metadata": {},
   "source": [
    "Đoạn comment trên sẽ được 1 số tool tự parse thành documentation.\n",
    "Có thể xem lại ngay trong code:"
   ]
  },
  {
   "cell_type": "code",
   "execution_count": null,
   "metadata": {},
   "outputs": [],
   "source": [
    "print(my_function.__doc__)"
   ]
  },
  {
   "cell_type": "markdown",
   "metadata": {},
   "source": [
    "Trong IPython/Jupyter, có thể xem docstring bằng dấu `?`"
   ]
  },
  {
   "cell_type": "code",
   "execution_count": null,
   "metadata": {},
   "outputs": [],
   "source": [
    "range?  # range là 1 hàm Python đã định nghĩa sẵn"
   ]
  },
  {
   "cell_type": "markdown",
   "metadata": {},
   "source": [
    "Docstring ngoài dùng để comment hàm còn có thể dùng để comment class, module."
   ]
  },
  {
   "cell_type": "markdown",
   "metadata": {},
   "source": [
    "## Comment"
   ]
  },
  {
   "cell_type": "code",
   "execution_count": null,
   "metadata": {},
   "outputs": [],
   "source": [
    "# Dùng dấu # để comment trong code."
   ]
  },
  {
   "cell_type": "markdown",
   "metadata": {},
   "source": [
    "## Hiển thị dữ liệu"
   ]
  },
  {
   "cell_type": "markdown",
   "metadata": {},
   "source": [
    "Cách dễ nhất là dùng hàm `print`"
   ]
  },
  {
   "cell_type": "code",
   "execution_count": null,
   "metadata": {},
   "outputs": [],
   "source": [
    "import math\n",
    "\n",
    "print(1)\n",
    "print('2 * 3 = ', 2 * 3)\n",
    "print('Pi = %09.4f' % math.pi)  # Format string kiểu C/C++\n",
    "print('Hello, {}'.format('world!'))  # Format string kiểu C#, Java\n",
    "# Và còn nhiều kiểu format khác nữa"
   ]
  },
  {
   "cell_type": "markdown",
   "metadata": {},
   "source": [
    "Chú ý trong Python 2 cú pháp `print` không có ngoặc. Nếu muốn dùng ngoặc trong Python 2 thì khai báo"
   ]
  },
  {
   "cell_type": "code",
   "execution_count": null,
   "metadata": {},
   "outputs": [],
   "source": [
    "from __future__ import print_function\n",
    "# Khuyến khích trong Python 3 cũng dùng để code có thể chạy được trên Python 2"
   ]
  },
  {
   "cell_type": "markdown",
   "metadata": {},
   "source": [
    "## Toán tử số học"
   ]
  },
  {
   "cell_type": "markdown",
   "metadata": {},
   "source": [
    "Cộng, trừ, nhân, ngoặc như bình thường."
   ]
  },
  {
   "cell_type": "code",
   "execution_count": null,
   "metadata": {},
   "outputs": [],
   "source": [
    "3 * (2 - 8)"
   ]
  },
  {
   "cell_type": "markdown",
   "metadata": {},
   "source": [
    "Chia (`/`) trong Python 2 là chia lấy phần nguyên, còn Python 3 lấy cả phần thập phân. Muốn chia lấy phần nguyên thì dùng `//`. Python 2 cũng dùng được."
   ]
  },
  {
   "cell_type": "code",
   "execution_count": null,
   "metadata": {},
   "outputs": [],
   "source": [
    "4 / 3"
   ]
  },
  {
   "cell_type": "code",
   "execution_count": null,
   "metadata": {},
   "outputs": [],
   "source": [
    "4 // 3 "
   ]
  },
  {
   "cell_type": "code",
   "execution_count": null,
   "metadata": {},
   "outputs": [],
   "source": [
    "4.0 // 3.0"
   ]
  },
  {
   "cell_type": "markdown",
   "metadata": {},
   "source": [
    "Có thể `division` từ module `__future__` để bắt Python 2 chia giống Python 3. Khuyến khích dùng để code tương thích cả 2 version."
   ]
  },
  {
   "cell_type": "code",
   "execution_count": null,
   "metadata": {},
   "outputs": [],
   "source": [
    "from __future__ import division"
   ]
  },
  {
   "cell_type": "markdown",
   "metadata": {},
   "source": [
    "Chia lấy phần dư `%` cần chú ý với trường hợp số âm: Kết quả luôn cùng dấu với mẫu"
   ]
  },
  {
   "cell_type": "code",
   "execution_count": null,
   "metadata": {},
   "outputs": [],
   "source": [
    "13 % 5"
   ]
  },
  {
   "cell_type": "code",
   "execution_count": null,
   "metadata": {},
   "outputs": [],
   "source": [
    "5.5 % 8 "
   ]
  },
  {
   "cell_type": "code",
   "execution_count": null,
   "metadata": {},
   "outputs": [],
   "source": [
    "-1 % 8"
   ]
  },
  {
   "cell_type": "code",
   "execution_count": null,
   "metadata": {},
   "outputs": [],
   "source": [
    "1 % -8"
   ]
  },
  {
   "cell_type": "code",
   "execution_count": null,
   "metadata": {},
   "outputs": [],
   "source": [
    "-1 % -8"
   ]
  },
  {
   "cell_type": "markdown",
   "metadata": {},
   "source": [
    "Phép lũy thừa có thể dùng `**`"
   ]
  },
  {
   "cell_type": "code",
   "execution_count": null,
   "metadata": {},
   "outputs": [],
   "source": [
    "2 ** 3 "
   ]
  },
  {
   "cell_type": "markdown",
   "metadata": {},
   "source": [
    "## Toán tử logic"
   ]
  },
  {
   "cell_type": "markdown",
   "metadata": {},
   "source": [
    "Trong Python không có cặp toán tử `&&` và `||` mà thay vào đó là `and` và `or`"
   ]
  },
  {
   "cell_type": "code",
   "execution_count": null,
   "metadata": {},
   "outputs": [],
   "source": [
    "2 < 1 and print('Không được in')"
   ]
  },
  {
   "cell_type": "code",
   "execution_count": null,
   "metadata": {},
   "outputs": [],
   "source": [
    "True and print('Cái này thì in')"
   ]
  },
  {
   "cell_type": "code",
   "execution_count": null,
   "metadata": {},
   "outputs": [],
   "source": [
    "a = 3\n",
    "2 < a < 4  # Python có thể viết thế này thay vì dùng and"
   ]
  },
  {
   "cell_type": "code",
   "execution_count": null,
   "metadata": {},
   "outputs": [],
   "source": [
    "1 == 2 < a"
   ]
  },
  {
   "cell_type": "markdown",
   "metadata": {},
   "source": [
    "Python cũng không dùng `!` mà thay bằng `not`"
   ]
  },
  {
   "cell_type": "code",
   "execution_count": null,
   "metadata": {},
   "outputs": [],
   "source": [
    "not False"
   ]
  },
  {
   "cell_type": "markdown",
   "metadata": {},
   "source": [
    "## Null"
   ]
  },
  {
   "cell_type": "markdown",
   "metadata": {},
   "source": [
    "Trong Python, null được gọi là None"
   ]
  },
  {
   "cell_type": "code",
   "execution_count": null,
   "metadata": {},
   "outputs": [],
   "source": [
    "a = None\n",
    "type(a)"
   ]
  },
  {
   "cell_type": "markdown",
   "metadata": {},
   "source": [
    "## Tương tác với biến"
   ]
  },
  {
   "cell_type": "markdown",
   "metadata": {},
   "source": [
    "Như đã nói ở trên, không cần khai báo biến trong Python. Nếu muốn xóa 1 biến thì dùng `del`"
   ]
  },
  {
   "cell_type": "code",
   "execution_count": null,
   "metadata": {},
   "outputs": [],
   "source": [
    "x = 9\n",
    "locals()['x']"
   ]
  },
  {
   "cell_type": "code",
   "execution_count": null,
   "metadata": {},
   "outputs": [],
   "source": [
    "del x\n",
    "locals()['x']"
   ]
  },
  {
   "cell_type": "markdown",
   "metadata": {},
   "source": [
    "Để tăng/giảm giá trị của biến, có thể dùng `+=`, `-=`"
   ]
  },
  {
   "cell_type": "code",
   "execution_count": null,
   "metadata": {},
   "outputs": [],
   "source": [
    "a = 5\n",
    "a += 3\n",
    "a"
   ]
  },
  {
   "cell_type": "code",
   "execution_count": null,
   "metadata": {},
   "outputs": [],
   "source": [
    "a -= 2\n",
    "a"
   ]
  },
  {
   "cell_type": "code",
   "execution_count": null,
   "metadata": {},
   "outputs": [],
   "source": [
    "a++  # Python không viết thế này được, mà phải là a += 1"
   ]
  },
  {
   "cell_type": "markdown",
   "metadata": {},
   "source": [
    "## Các kiểu dữ liệu khả duyệt (iterable)"
   ]
  },
  {
   "cell_type": "markdown",
   "metadata": {},
   "source": [
    "__List__ giống như array trong các ngôn ngữ khác. List được đánh dấu bằng cặp ngoặc vuông `[]`"
   ]
  },
  {
   "cell_type": "code",
   "execution_count": null,
   "metadata": {},
   "outputs": [],
   "source": [
    "a = [0, 1, 2, 3, 5, 8]\n",
    "print(a[0])  # Python đánh index từ 0\n",
    "print(a[-1])  # Có thể dùng index âm, tức là đếm từ cuối lại\n",
    "print(a[9])  # Đương nhiên index quá độ dài thì vẫn lỗi"
   ]
  },
  {
   "cell_type": "markdown",
   "metadata": {},
   "source": [
    "List là _mutable object_, tức là có thể gán lại giá trị cho 1 phần tử bất kỳ"
   ]
  },
  {
   "cell_type": "code",
   "execution_count": null,
   "metadata": {},
   "outputs": [],
   "source": [
    "a[0] = 1\n",
    "a"
   ]
  },
  {
   "cell_type": "markdown",
   "metadata": {},
   "source": [
    "List được gán bằng reference"
   ]
  },
  {
   "cell_type": "code",
   "execution_count": null,
   "metadata": {},
   "outputs": [],
   "source": [
    "b = l\n",
    "b[0] = 3\n",
    "print(a)\n",
    "print(id(b))\n",
    "print(id(a))"
   ]
  },
  {
   "cell_type": "markdown",
   "metadata": {},
   "source": [
    "Để copy 1 list hoặc 1 phần trong list, có thể dùng __slice__"
   ]
  },
  {
   "cell_type": "code",
   "execution_count": null,
   "metadata": {},
   "outputs": [],
   "source": [
    "b = a[0:4]\n",
    "print(b)\n",
    "b[0] = 5\n",
    "print(b)\n",
    "print(a)"
   ]
  },
  {
   "cell_type": "markdown",
   "metadata": {},
   "source": [
    "1 số cách dùng của slice. Lưu ý slice ngoài dùng cho list còn dùng được trong nhiều kiểu dữ liệu khả duyệt khác."
   ]
  },
  {
   "cell_type": "code",
   "execution_count": null,
   "metadata": {},
   "outputs": [],
   "source": [
    "a[1:4]  # Lấy các phần tử từ 1 -> 3"
   ]
  },
  {
   "cell_type": "code",
   "execution_count": null,
   "metadata": {},
   "outputs": [],
   "source": [
    "a[:4]  # Nếu start index trước dấu : bị bỏ trống thì được ngầm hiểu là lấy từ đầu"
   ]
  },
  {
   "cell_type": "code",
   "execution_count": null,
   "metadata": {},
   "outputs": [],
   "source": [
    "a[3:]  # Tương tự, end index bị bỏ trống thì được hiểu là lấy đến hết"
   ]
  },
  {
   "cell_type": "code",
   "execution_count": null,
   "metadata": {},
   "outputs": [],
   "source": [
    "a[:]  # Lấy toàn bộ list"
   ]
  },
  {
   "cell_type": "code",
   "execution_count": null,
   "metadata": {},
   "outputs": [],
   "source": [
    "a[::2]  # Phần tử thứ 3 là bước nhảy"
   ]
  },
  {
   "cell_type": "code",
   "execution_count": null,
   "metadata": {},
   "outputs": [],
   "source": [
    "a[::-1]  # Bước nhảy âm thì sẽ lấy từ cuối về"
   ]
  },
  {
   "cell_type": "markdown",
   "metadata": {},
   "source": [
    "Độ dài 1 list có thể lấy được bằng hàm `len`"
   ]
  },
  {
   "cell_type": "code",
   "execution_count": null,
   "metadata": {},
   "outputs": [],
   "source": [
    "len?"
   ]
  },
  {
   "cell_type": "code",
   "execution_count": null,
   "metadata": {},
   "outputs": [],
   "source": [
    "len(a)"
   ]
  },
  {
   "cell_type": "markdown",
   "metadata": {},
   "source": [
    "Có nhiều cách khai báo list"
   ]
  },
  {
   "cell_type": "code",
   "execution_count": null,
   "metadata": {},
   "outputs": [],
   "source": [
    "a = [1, 'b', [3, 4, 6]]  # Gán giá trị trực tiếp. Cái gì cũng cho vào list được\n",
    "a"
   ]
  },
  {
   "cell_type": "code",
   "execution_count": null,
   "metadata": {},
   "outputs": [],
   "source": [
    "a = list(range(1990, 2018))  # Dùng function\n",
    "a"
   ]
  },
  {
   "cell_type": "code",
   "execution_count": null,
   "metadata": {},
   "outputs": [],
   "source": [
    "a = [x ** 2 for x in range(10)]  # List comprehension, không quen sẽ khá hoa mắt\n",
    "a"
   ]
  },
  {
   "cell_type": "markdown",
   "metadata": {},
   "source": [
    "__Tuple__ khá giống list, chỉ khác là nó _immutable_, tức là không thể thay đổi giá trị trong nó. Tuple được đánh dấu bằng cặp ngoặc tròn"
   ]
  },
  {
   "cell_type": "code",
   "execution_count": null,
   "metadata": {},
   "outputs": [],
   "source": [
    "a = (1, 2, 3)\n",
    "print('Type:', type(a))\n",
    "a[0] = 0"
   ]
  },
  {
   "cell_type": "markdown",
   "metadata": {},
   "source": [
    "__string__ cũng có thể duyệt được. Tuy nhiên nó cũng immutable, khác với C/C++"
   ]
  },
  {
   "cell_type": "code",
   "execution_count": null,
   "metadata": {},
   "outputs": [],
   "source": [
    "a = 'abcde'\n",
    "for i in a:\n",
    "    print(i)\n",
    "a[0] = 'z'"
   ]
  },
  {
   "cell_type": "markdown",
   "metadata": {},
   "source": [
    "__dict__ là 1 kiểu mapping. Nó map 1 immutable object với 1 value bất kỳ. Dict được đánh dấu bằng cặp ngoặc `{}`"
   ]
  },
  {
   "cell_type": "code",
   "execution_count": null,
   "metadata": {},
   "outputs": [],
   "source": [
    "a = {\n",
    "    1: 'a value',\n",
    "    'key': 31.12,\n",
    "    (1, 'immutable'): range(20)\n",
    "}\n",
    "a"
   ]
  },
  {
   "cell_type": "markdown",
   "metadata": {},
   "source": [
    "Có nhiều kiểu tạo dict. Xem thêm về các kiểu dữ liệu đã đề cập tại [đây](https://docs.python.org/3/library/stdtypes.html)."
   ]
  },
  {
   "cell_type": "markdown",
   "metadata": {},
   "source": [
    "1 số method hay dùng khi thao tác với các kiểu dữ liệu khả duyệt:"
   ]
  },
  {
   "cell_type": "code",
   "execution_count": null,
   "metadata": {},
   "outputs": [],
   "source": [
    "a = range(1, 100, 10)  # [1, 21, 31, 41, 51, 61, 71, 81, 91]\n",
    "print(list(a))\n",
    "print(len(a))\n",
    "print(33 in a)  # Kiểm tra xem 1 object có tồn tại trong list hay không\n",
    "print(33 not in a)"
   ]
  },
  {
   "cell_type": "markdown",
   "metadata": {},
   "source": [
    "##  Điều khiển flow"
   ]
  },
  {
   "cell_type": "markdown",
   "metadata": {},
   "source": [
    "Điều kiện `if-elif-else`"
   ]
  },
  {
   "cell_type": "code",
   "execution_count": null,
   "metadata": {},
   "outputs": [],
   "source": [
    "x = 30\n",
    "if x < 0:\n",
    "    x = 0\n",
    "    print('Gán số âm thành 0')\n",
    "elif x == 0:\n",
    "    print('Zero')\n",
    "elif x == 1:\n",
    "    print('Một')\n",
    "else:\n",
    "    print('Hơn 1')"
   ]
  },
  {
   "cell_type": "markdown",
   "metadata": {},
   "source": [
    "Lặp số lần nhất định: `for`. Chú ý là Python bắt buộc phải `for` trong 1 iterable object, chứ không thể `for` đến khi thỏa mãn điều kiện"
   ]
  },
  {
   "cell_type": "code",
   "execution_count": null,
   "metadata": {},
   "outputs": [],
   "source": [
    "for i in range(10):\n",
    "    print(i)"
   ]
  },
  {
   "cell_type": "markdown",
   "metadata": {},
   "source": [
    "Lặp có điều kiện: `while`"
   ]
  },
  {
   "cell_type": "code",
   "execution_count": null,
   "metadata": {},
   "outputs": [],
   "source": [
    "x = 0\n",
    "while x < 5:\n",
    "    print(x)\n",
    "    x += 1"
   ]
  },
  {
   "cell_type": "markdown",
   "metadata": {},
   "source": [
    "`break`, `continue`"
   ]
  },
  {
   "cell_type": "code",
   "execution_count": null,
   "metadata": {},
   "outputs": [],
   "source": [
    "for i in range(2, 10):\n",
    "    if i > 5:\n",
    "        break\n",
    "    print(i)"
   ]
  },
  {
   "cell_type": "code",
   "execution_count": null,
   "metadata": {},
   "outputs": [],
   "source": [
    "for i in range(2, 10):\n",
    "    if i == 5:\n",
    "        continue\n",
    "    print(i)"
   ]
  },
  {
   "cell_type": "code",
   "execution_count": null,
   "metadata": {},
   "outputs": [],
   "source": [
    "for n in range(2, 10):\n",
    "    for x in range(2, n):\n",
    "        if n % x == 0:\n",
    "            print('%d = %d * %d' % (n, x, n // x))\n",
    "            break\n",
    "    else:\n",
    "        print(n, 'is a prime number')"
   ]
  },
  {
   "cell_type": "markdown",
   "metadata": {},
   "source": [
    "`for`, `while` có thể đi với `else`. Code chạy vào `else` khi cả vòng lặp không bị `break`."
   ]
  },
  {
   "cell_type": "markdown",
   "metadata": {},
   "source": [
    "## Function"
   ]
  },
  {
   "cell_type": "code",
   "execution_count": null,
   "metadata": {},
   "outputs": [],
   "source": [
    "def square(x):\n",
    "    return x ** 2\n",
    "\n",
    "square(4)"
   ]
  },
  {
   "cell_type": "markdown",
   "metadata": {},
   "source": [
    "Với những hàm có logic đơn giản, trả về 1 giá trị thì có thể dùng hàm __lambda__ cho ngắn gọn hơn:"
   ]
  },
  {
   "cell_type": "code",
   "execution_count": null,
   "metadata": {},
   "outputs": [],
   "source": [
    "square = lambda x: x ** 2\n",
    "square(3)"
   ]
  },
  {
   "cell_type": "markdown",
   "metadata": {},
   "source": [
    "1 số function trong Python nhận tham số là 1 function khác. Trường hợp đó sử dụng lambda sẽ làm code đỡ rối rắm"
   ]
  },
  {
   "cell_type": "code",
   "execution_count": null,
   "metadata": {},
   "outputs": [],
   "source": [
    "a = list(range(5))\n",
    "print(a)\n",
    "list(map(lambda x: x * 3, a))  # Nhân 3 toàn bộ các phần tử trong a"
   ]
  },
  {
   "cell_type": "code",
   "execution_count": null,
   "metadata": {},
   "outputs": [],
   "source": [
    "map?"
   ]
  },
  {
   "cell_type": "markdown",
   "metadata": {},
   "source": [
    "## Class"
   ]
  },
  {
   "cell_type": "code",
   "execution_count": null,
   "metadata": {},
   "outputs": [],
   "source": [
    "class Animal(object):\n",
    "    \"\"\"\n",
    "    Docstring cho class\n",
    "    \"\"\"\n",
    "    class_name = 'Animal'\n",
    "    \n",
    "    def speak(self, repeat=1):  # Optional parameter\n",
    "        print(self.my_incredible_speech * repeat)\n",
    "    \n",
    "    @staticmethod\n",
    "    def get_class_name():\n",
    "        return Animal.class_name\n",
    "    \n",
    "    def _private_method(self):\n",
    "        pass  # Khi muốn có 1 method hoặc vòng lặp không làm gì cả thì dùng pass\n",
    "\n",
    "class Dog(Animal):\n",
    "    def __init__(self):\n",
    "        self.my_incredible_speech = 'Woof '\n",
    "\n",
    "class Trump(Animal):\n",
    "    def __init__(self):\n",
    "        self.my_incredible_speech = 'Make America great again!'\n",
    "\n",
    "a = Trump()\n",
    "a.speak()\n",
    "b = Dog()\n",
    "b.speak(5)\n",
    "\n",
    "print(Animal.get_class_name())"
   ]
  },
  {
   "cell_type": "markdown",
   "metadata": {},
   "source": [
    "Ở ví dụ trên,\n",
    "- `Dog` và `Trump` thừa kế lớp `Animal`, và `Animal` thừa kế lớp `object`.\n",
    "- `__init__` là hàm khởi tạo (constructor).\n",
    "- `my_incredible_speech` là biến member, được khởi tạo trong `__init__`.\n",
    "- `class_name` là biến static, được khởi tạo dưới class chứ không trong 1 hàm nào\n",
    "- `speak` là \"public\" method. Tham số đầu tiên của 1 method trong class luôn là reference đến chính nó, thường đặt là `self` (tương tự `this` trong các ngôn ngữ khác)\n",
    "- `get_class_name` là static method, được đánh dấu bằng _annotation_ `@staticmethod`. Static method thì không có `self`\n",
    "- Các method bắt đầu bằng dầu `_` được coi là \"private\". Chú ý là Python không có khái niệm access modifier như các ngôn ngữ khác, mà chỉ dùng cách đặt tên để ra hiệu cho programmer"
   ]
  },
  {
   "cell_type": "markdown",
   "metadata": {},
   "source": [
    "## Bắt exception"
   ]
  },
  {
   "cell_type": "markdown",
   "metadata": {},
   "source": [
    "Trong Python, exception được gọi là `Error`. Để bắt error, dùng `try-except-else-finally`"
   ]
  },
  {
   "cell_type": "code",
   "execution_count": null,
   "metadata": {},
   "outputs": [],
   "source": [
    "try:\n",
    "    a = 1/0\n",
    "except ZeroDivisionError:\n",
    "    print('Lỗi')\n",
    "    raise  # Giống throw ở các ngôn ngữ khác\n",
    "else:  # Chỉ chạy vào nếu có error\n",
    "    print('Không lỗi')\n",
    "finally:  # Có hay không có error cũng vào đây hết\n",
    "    print('Finally!')"
   ]
  },
  {
   "cell_type": "markdown",
   "metadata": {},
   "source": [
    "## Coding convention"
   ]
  },
  {
   "cell_type": "markdown",
   "metadata": {},
   "source": [
    "Nên tuân thủ [PEP8](https://www.python.org/dev/peps/pep-0008/)\n",
    "- Indent bằng 4 spaces. Không dùng tab\n",
    "- Tên biến, hàm viết thường, snake_case\n",
    "- Tên class viết PascalCase\n",
    "- Tên module, script viết thường hết\n",
    "- Dòng không dài quá 79 ký tự\n",
    "- còn nhiều lắm..."
   ]
  },
  {
   "cell_type": "code",
   "execution_count": null,
   "metadata": {},
   "outputs": [],
   "source": []
  }
 ],
 "metadata": {
  "kernelspec": {
   "display_name": "Python 3",
   "language": "python",
   "name": "python3"
  },
  "language_info": {
   "codemirror_mode": {
    "name": "ipython",
    "version": 3
   },
   "file_extension": ".py",
   "mimetype": "text/x-python",
   "name": "python",
   "nbconvert_exporter": "python",
   "pygments_lexer": "ipython3",
   "version": "3.6.3"
  }
 },
 "nbformat": 4,
 "nbformat_minor": 1
}
